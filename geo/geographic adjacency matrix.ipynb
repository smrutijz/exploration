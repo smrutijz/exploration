{
 "cells": [
  {
   "cell_type": "code",
   "execution_count": 1,
   "metadata": {},
   "outputs": [],
   "source": [
    "import geopandas as gpd\n",
    "import pandas as pd\n",
    "import numpy as np\n",
    "import networkx\n",
    "from matplotlib import pyplot as plt"
   ]
  },
  {
   "cell_type": "code",
   "execution_count": 2,
   "metadata": {},
   "outputs": [
    {
     "data": {
      "image/png": "[encoded data removed]",
      "text/plain": [
       "<Figure size 432x288 with 1 Axes>"
      ]
     },
     "metadata": {
      "needs_background": "light"
     },
     "output_type": "display_data"
    }
   ],
   "source": [
    "df = gpd.read_file(r\"C:\\Users\\smrut\\Downloads\\IND_adm\\IND_adm1.shp\")\n",
    "df.plot(cmap=\"jet\")\n",
    "plt.show();"
   ]
  },
  {
   "cell_type": "code",
   "execution_count": 69,
   "metadata": {},
   "outputs": [
    {
     "data": {
      "text/html": [
       "<div>\n",
       "<style scoped>\n",
       "    .dataframe tbody tr th:only-of-type {\n",
       "        vertical-align: middle;\n",
       "    }\n",
       "\n",
       "    .dataframe tbody tr th {\n",
       "        vertical-align: top;\n",
       "    }\n",
       "\n",
       "    .dataframe thead th {\n",
       "        text-align: right;\n",
       "    }\n",
       "</style>\n",
       "<table border=\"1\" class=\"dataframe\">\n",
       "  <thead>\n",
       "    <tr style=\"text-align: right;\">\n",
       "      <th></th>\n",
       "      <th>ID_0</th>\n",
       "      <th>ISO</th>\n",
       "      <th>NAME_0</th>\n",
       "      <th>ID_1</th>\n",
       "      <th>NAME_1</th>\n",
       "      <th>TYPE_1</th>\n",
       "      <th>ENGTYPE_1</th>\n",
       "      <th>NL_NAME_1</th>\n",
       "      <th>VARNAME_1</th>\n",
       "      <th>geometry</th>\n",
       "      <th>centroid</th>\n",
       "    </tr>\n",
       "  </thead>\n",
       "  <tbody>\n",
       "    <tr>\n",
       "      <td>0</td>\n",
       "      <td>105</td>\n",
       "      <td>IND</td>\n",
       "      <td>India</td>\n",
       "      <td>1</td>\n",
       "      <td>Andaman and Nicobar</td>\n",
       "      <td>Union Territor</td>\n",
       "      <td>Union Territory</td>\n",
       "      <td>None</td>\n",
       "      <td>Andaman &amp; Nicobar Islands|Andaman et Nicobar|I...</td>\n",
       "      <td>MULTIPOLYGON (((93.78773 6.85264, 93.78849 6.8...</td>\n",
       "      <td>POINT (92.96818 11.22600)</td>\n",
       "    </tr>\n",
       "    <tr>\n",
       "      <td>1</td>\n",
       "      <td>105</td>\n",
       "      <td>IND</td>\n",
       "      <td>India</td>\n",
       "      <td>2</td>\n",
       "      <td>Andhra Pradesh</td>\n",
       "      <td>State</td>\n",
       "      <td>State</td>\n",
       "      <td>None</td>\n",
       "      <td>None</td>\n",
       "      <td>MULTIPOLYGON (((80.27458 13.45958, 80.27458 13...</td>\n",
       "      <td>POINT (79.92729 15.71159)</td>\n",
       "    </tr>\n",
       "    <tr>\n",
       "      <td>2</td>\n",
       "      <td>105</td>\n",
       "      <td>IND</td>\n",
       "      <td>India</td>\n",
       "      <td>3</td>\n",
       "      <td>Arunachal Pradesh</td>\n",
       "      <td>State</td>\n",
       "      <td>State</td>\n",
       "      <td>None</td>\n",
       "      <td>Agence de la FrontiÃ¨re du Nord-Est(French-obs...</td>\n",
       "      <td>POLYGON ((96.15778 29.38310, 96.16380 29.37668...</td>\n",
       "      <td>POINT (94.67669 28.03901)</td>\n",
       "    </tr>\n",
       "    <tr>\n",
       "      <td>3</td>\n",
       "      <td>105</td>\n",
       "      <td>IND</td>\n",
       "      <td>India</td>\n",
       "      <td>4</td>\n",
       "      <td>Assam</td>\n",
       "      <td>State</td>\n",
       "      <td>State</td>\n",
       "      <td>None</td>\n",
       "      <td>None</td>\n",
       "      <td>MULTIPOLYGON (((89.87145 25.53730, 89.87118 25...</td>\n",
       "      <td>POINT (92.82954 26.35735)</td>\n",
       "    </tr>\n",
       "    <tr>\n",
       "      <td>4</td>\n",
       "      <td>105</td>\n",
       "      <td>IND</td>\n",
       "      <td>India</td>\n",
       "      <td>5</td>\n",
       "      <td>Bihar</td>\n",
       "      <td>State</td>\n",
       "      <td>State</td>\n",
       "      <td>None</td>\n",
       "      <td>None</td>\n",
       "      <td>MULTIPOLYGON (((88.10548 26.53904, 88.10505 26...</td>\n",
       "      <td>POINT (85.60484 25.67966)</td>\n",
       "    </tr>\n",
       "  </tbody>\n",
       "</table>\n",
       "</div>"
      ],
      "text/plain": [
       "   ID_0  ISO NAME_0  ID_1               NAME_1          TYPE_1  \\\n",
       "0   105  IND  India     1  Andaman and Nicobar  Union Territor   \n",
       "1   105  IND  India     2       Andhra Pradesh           State   \n",
       "2   105  IND  India     3    Arunachal Pradesh           State   \n",
       "3   105  IND  India     4                Assam           State   \n",
       "4   105  IND  India     5                Bihar           State   \n",
       "\n",
       "         ENGTYPE_1 NL_NAME_1  \\\n",
       "0  Union Territory      None   \n",
       "1            State      None   \n",
       "2            State      None   \n",
       "3            State      None   \n",
       "4            State      None   \n",
       "\n",
       "                                           VARNAME_1  \\\n",
       "0  Andaman & Nicobar Islands|Andaman et Nicobar|I...   \n",
       "1                                               None   \n",
       "2  Agence de la FrontiÃ¨re du Nord-Est(French-obs...   \n",
       "3                                               None   \n",
       "4                                               None   \n",
       "\n",
       "                                            geometry  \\\n",
       "0  MULTIPOLYGON (((93.78773 6.85264, 93.78849 6.8...   \n",
       "1  MULTIPOLYGON (((80.27458 13.45958, 80.27458 13...   \n",
       "2  POLYGON ((96.15778 29.38310, 96.16380 29.37668...   \n",
       "3  MULTIPOLYGON (((89.87145 25.53730, 89.87118 25...   \n",
       "4  MULTIPOLYGON (((88.10548 26.53904, 88.10505 26...   \n",
       "\n",
       "                    centroid  \n",
       "0  POINT (92.96818 11.22600)  \n",
       "1  POINT (79.92729 15.71159)  \n",
       "2  POINT (94.67669 28.03901)  \n",
       "3  POINT (92.82954 26.35735)  \n",
       "4  POINT (85.60484 25.67966)  "
      ]
     },
     "execution_count": 69,
     "metadata": {},
     "output_type": "execute_result"
    }
   ],
   "source": [
    "df.head()"
   ]
  },
  {
   "cell_type": "markdown",
   "metadata": {},
   "source": [
    "adjacency_matrix based on neabour"
   ]
  },
  {
   "cell_type": "code",
   "execution_count": 4,
   "metadata": {},
   "outputs": [],
   "source": [
    "G_adj_poly = networkx.DiGraph()\n",
    "num_poly = df.shape[0]\n",
    "for i in range(num_poly):\n",
    "    for j in range(num_poly):\n",
    "        if df.geometry[i].touches(df.geometry[j]):\n",
    "            G_adj_poly.add_edge(i, j, weight=1)\n",
    "A_adj_poly = networkx.adjacency_matrix(G).A"
   ]
  },
  {
   "cell_type": "markdown",
   "metadata": {},
   "source": [
    "adjacency_matrix based on distance between centriods"
   ]
  },
  {
   "cell_type": "code",
   "execution_count": 44,
   "metadata": {
    "scrolled": true
   },
   "outputs": [],
   "source": [
    "df[\"centroid\"] = df.geometry.centroid\n",
    "G_dist = networkx.DiGraph()\n",
    "for i in range(num_poly):\n",
    "    for j in range(num_poly):\n",
    "        if df.geometry[i].touches(df.geometry[j]):\n",
    "            G_dist.add_edge(i, j, weight=df.centroid[i].distance(df.centroid[j]))\n",
    "df.drop(\"centroid\", axis=1, inplace=True)\n",
    "A_dist = networkx.adjacency_matrix(G_dist).A"
   ]
  },
  {
   "cell_type": "markdown",
   "metadata": {},
   "source": [
    "default is eucledian distance"
   ]
  },
  {
   "cell_type": "code",
   "execution_count": 65,
   "metadata": {},
   "outputs": [
    {
     "name": "stdout",
     "output_type": "stream",
     "text": [
      "13.79077178625558\n",
      "13.79077178625558\n"
     ]
    }
   ],
   "source": [
    "df[\"centroid\"] = df.geometry.centroid\n",
    "p1 = df.centroid[0]\n",
    "p2 = df.centroid[1]\n",
    "print(((p1.y-p2.y)**2 + (p1.x-p2.x)**2)**0.5)\n",
    "print(df.centroid[0].distance(df.centroid[1]))"
   ]
  },
  {
   "cell_type": "markdown",
   "metadata": {},
   "source": [
    "karnataka and andra pradesh (minimum distance)"
   ]
  },
  {
   "cell_type": "code",
   "execution_count": 68,
   "metadata": {},
   "outputs": [
    {
     "data": {
      "text/plain": [
       "0.0"
      ]
     },
     "execution_count": 68,
     "metadata": {},
     "output_type": "execute_result"
    }
   ],
   "source": [
    "df.geometry[1].distance(df.geometry[16])"
   ]
  },
  {
   "cell_type": "code",
   "execution_count": null,
   "metadata": {},
   "outputs": [],
   "source": []
  }
 ],
 "metadata": {
  "kernelspec": {
   "display_name": "Python 3",
   "language": "python",
   "name": "python3"
  },
  "language_info": {
   "codemirror_mode": {
    "name": "ipython",
    "version": 3
   },
   "file_extension": ".py",
   "mimetype": "text/x-python",
   "name": "python",
   "nbconvert_exporter": "python",
   "pygments_lexer": "ipython3",
   "version": "3.7.4"
  }
 },
 "nbformat": 4,
 "nbformat_minor": 2
}
