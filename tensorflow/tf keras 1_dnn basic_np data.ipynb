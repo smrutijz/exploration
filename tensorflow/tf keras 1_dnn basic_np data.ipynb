{
 "cells": [
  {
   "cell_type": "code",
   "execution_count": 1,
   "metadata": {},
   "outputs": [
    {
     "name": "stderr",
     "output_type": "stream",
     "text": [
      "c:\\users\\smrut\\appdata\\local\\programs\\python\\python37\\lib\\site-packages\\numpy\\core\\__init__.py:29: UserWarning: loaded more than 1 DLL from .libs:\n",
      "c:\\users\\smrut\\appdata\\local\\programs\\python\\python37\\lib\\site-packages\\numpy\\.libs\\libopenblas.IPBC74C7KURV7CB2PKT5Z5FNR3SIBV4J.gfortran-win_amd64.dll\n",
      "c:\\users\\smrut\\appdata\\local\\programs\\python\\python37\\lib\\site-packages\\numpy\\.libs\\libopenblas.TXA6YQSD3GCQQC22GEQ54J2UDCXDXHWN.gfortran-win_amd64.dll\n",
      "  stacklevel=1)\n"
     ]
    },
    {
     "name": "stdout",
     "output_type": "stream",
     "text": [
      "1.14.0\n",
      "2.2.4-tf\n"
     ]
    }
   ],
   "source": [
    "from __future__ import absolute_import, division, print_function, unicode_literals\n",
    "\n",
    "import tensorflow as tf\n",
    "from tensorflow import keras\n",
    "from tensorflow.keras import layers\n",
    "import numpy as np\n",
    "import matplotlib.pyplot as plt\n",
    "\n",
    "print(tf.version.VERSION)\n",
    "print(tf.keras.__version__)"
   ]
  },
  {
   "cell_type": "code",
   "execution_count": 2,
   "metadata": {},
   "outputs": [],
   "source": [
    "def random_one_hot_labels(shape):\n",
    "  n, n_class = shape\n",
    "  classes = np.random.randint(0, n_class, n)\n",
    "  labels = np.zeros((n, n_class))\n",
    "  labels[np.arange(n), classes] = 1\n",
    "  return labels\n",
    "\n",
    "x_train = np.random.random((1000, 32))\n",
    "y_train = random_one_hot_labels((1000, 10))\n",
    "\n",
    "x_cv = np.random.random((200, 32))\n",
    "y_cv = random_one_hot_labels((200, 10))\n",
    "\n",
    "x_test = np.random.random((200, 32))\n",
    "y_test = random_one_hot_labels((200, 10))"
   ]
  },
  {
   "cell_type": "code",
   "execution_count": 3,
   "metadata": {},
   "outputs": [
    {
     "name": "stdout",
     "output_type": "stream",
     "text": [
      "(1000, 32)\n",
      "(1000, 10) \n",
      "\n",
      "(200, 32)\n",
      "(200, 10) \n",
      "\n",
      "(200, 32)\n",
      "(200, 10) \n",
      "\n"
     ]
    }
   ],
   "source": [
    "print(x_train.shape)\n",
    "print(y_train.shape, \"\\n\")\n",
    "\n",
    "print(x_cv.shape)\n",
    "print(y_cv.shape, \"\\n\")\n",
    "\n",
    "print(x_test.shape)\n",
    "print(y_test.shape, \"\\n\")"
   ]
  },
  {
   "cell_type": "code",
   "execution_count": 4,
   "metadata": {},
   "outputs": [
    {
     "name": "stderr",
     "output_type": "stream",
     "text": [
      "WARNING: Logging before flag parsing goes to stderr.\n",
      "W0729 18:24:28.433799  7076 deprecation.py:506] From c:\\users\\smrut\\appdata\\local\\programs\\python\\python37\\lib\\site-packages\\tensorflow\\python\\ops\\init_ops.py:1251: calling VarianceScaling.__init__ (from tensorflow.python.ops.init_ops) with dtype is deprecated and will be removed in a future version.\n",
      "Instructions for updating:\n",
      "Call initializer instance with the dtype argument instead of passing it to the constructor\n"
     ]
    }
   ],
   "source": [
    "model = tf.keras.Sequential()\n",
    "\n",
    "# Adds a densely-connected layer with 64 units to the model:\n",
    "model.add(layers.Dense(64, activation=keras.activations.relu, input_shape=(32,)))\n",
    "# Add another:\n",
    "model.add(layers.Dense(64, activation='relu'))\n",
    "# Add a softmax layer with 10 output units:\n",
    "model.add(layers.Dense(10, activation='softmax'))\n",
    "\n",
    "model.compile(optimizer=tf.train.RMSPropOptimizer(0.01),\n",
    "              loss=keras.losses.categorical_crossentropy,\n",
    "              metrics=[keras.metrics.categorical_accuracy])\n"
   ]
  },
  {
   "cell_type": "code",
   "execution_count": 8,
   "metadata": {},
   "outputs": [
    {
     "name": "stdout",
     "output_type": "stream",
     "text": [
      "Epoch 1/10\n",
      "30/30 [==============================] - 0s 5ms/step - loss: 2.0840 - categorical_accuracy: 0.2427 - val_loss: 2.5929 - val_categorical_accuracy: 0.1181\n",
      "Epoch 2/10\n",
      "30/30 [==============================] - 0s 3ms/step - loss: 2.0558 - categorical_accuracy: 0.2618 - val_loss: 2.3765 - val_categorical_accuracy: 0.1181\n",
      "Epoch 3/10\n",
      "30/30 [==============================] - 0s 2ms/step - loss: 1.9944 - categorical_accuracy: 0.2885 - val_loss: 2.5723 - val_categorical_accuracy: 0.0972\n",
      "Epoch 4/10\n",
      "30/30 [==============================] - 0s 2ms/step - loss: 1.9303 - categorical_accuracy: 0.3269 - val_loss: 2.6381 - val_categorical_accuracy: 0.1528\n",
      "Epoch 5/10\n",
      "30/30 [==============================] - 0s 2ms/step - loss: 1.8899 - categorical_accuracy: 0.3141 - val_loss: 2.4859 - val_categorical_accuracy: 0.1181\n",
      "Epoch 6/10\n",
      "30/30 [==============================] - 0s 2ms/step - loss: 1.8327 - categorical_accuracy: 0.3547 - val_loss: 2.8819 - val_categorical_accuracy: 0.1262\n",
      "Epoch 7/10\n",
      "30/30 [==============================] - 0s 2ms/step - loss: 1.7788 - categorical_accuracy: 0.3697 - val_loss: 2.7739 - val_categorical_accuracy: 0.1053\n",
      "Epoch 8/10\n",
      "30/30 [==============================] - 0s 2ms/step - loss: 1.7426 - categorical_accuracy: 0.3771 - val_loss: 2.8738 - val_categorical_accuracy: 0.1157\n",
      "Epoch 9/10\n",
      "30/30 [==============================] - 0s 2ms/step - loss: 1.6820 - categorical_accuracy: 0.3953 - val_loss: 2.7382 - val_categorical_accuracy: 0.1435\n",
      "Epoch 10/10\n",
      "30/30 [==============================] - 0s 2ms/step - loss: 1.6343 - categorical_accuracy: 0.4252 - val_loss: 2.8266 - val_categorical_accuracy: 0.1146\n"
     ]
    },
    {
     "data": {
      "text/plain": [
       "<tensorflow.python.keras.callbacks.History at 0x228c0babf28>"
      ]
     },
     "execution_count": 8,
     "metadata": {},
     "output_type": "execute_result"
    }
   ],
   "source": [
    "# Instantiates a toy dataset instance:\n",
    "dataset = tf.data.Dataset.from_tensor_slices((x_train, y_train))\n",
    "dataset = dataset.shuffle(1).batch(32).repeat()\n",
    "\n",
    "dataset_cv = tf.data.Dataset.from_tensor_slices((x_cv, y_cv)).batch(32).repeat()\n",
    "\n",
    "# Don't forget to specify `steps_per_epoch` when calling `fit` on a dataset.\n",
    "model.fit(dataset, epochs=10, steps_per_epoch=30, validation_data = dataset_cv, validation_steps=30)"
   ]
  },
  {
   "cell_type": "code",
   "execution_count": 21,
   "metadata": {},
   "outputs": [
    {
     "name": "stdout",
     "output_type": "stream",
     "text": [
      "30/30 [==============================] - 0s 2ms/step - loss: 3.0014 - categorical_accuracy: 0.1042\n"
     ]
    },
    {
     "data": {
      "text/plain": [
       "[3.0013684272766112, 0.104166664]"
      ]
     },
     "execution_count": 21,
     "metadata": {},
     "output_type": "execute_result"
    }
   ],
   "source": [
    "dataset_test = tf.data.Dataset.from_tensor_slices((x_test, y_test)).shuffle(1).batch(32).repeat()\n",
    "model.evaluate(dataset_test, steps=30)"
   ]
  },
  {
   "cell_type": "code",
   "execution_count": 20,
   "metadata": {},
   "outputs": [
    {
     "name": "stdout",
     "output_type": "stream",
     "text": [
      "200/200 [==============================] - 0s 35us/sample - loss: 3.0180 - categorical_accuracy: 0.1050\n"
     ]
    },
    {
     "data": {
      "text/plain": [
       "[3.01800591468811, 0.105]"
      ]
     },
     "execution_count": 20,
     "metadata": {},
     "output_type": "execute_result"
    }
   ],
   "source": [
    "model.evaluate(x_test, y_test, batch_size=32)"
   ]
  }
 ],
 "metadata": {
  "kernelspec": {
   "display_name": "Python 3",
   "language": "python",
   "name": "python3"
  },
  "language_info": {
   "codemirror_mode": {
    "name": "ipython",
    "version": 3
   },
   "file_extension": ".py",
   "mimetype": "text/x-python",
   "name": "python",
   "nbconvert_exporter": "python",
   "pygments_lexer": "ipython3",
   "version": "3.7.1"
  }
 },
 "nbformat": 4,
 "nbformat_minor": 2
}
