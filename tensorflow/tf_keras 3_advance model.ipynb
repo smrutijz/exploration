{
 "cells": [
  {
   "cell_type": "code",
   "execution_count": 1,
   "metadata": {},
   "outputs": [
    {
     "name": "stderr",
     "output_type": "stream",
     "text": [
      "c:\\users\\smrut\\appdata\\local\\programs\\python\\python37\\lib\\site-packages\\numpy\\core\\__init__.py:29: UserWarning: loaded more than 1 DLL from .libs:\n",
      "c:\\users\\smrut\\appdata\\local\\programs\\python\\python37\\lib\\site-packages\\numpy\\.libs\\libopenblas.IPBC74C7KURV7CB2PKT5Z5FNR3SIBV4J.gfortran-win_amd64.dll\n",
      "c:\\users\\smrut\\appdata\\local\\programs\\python\\python37\\lib\\site-packages\\numpy\\.libs\\libopenblas.TXA6YQSD3GCQQC22GEQ54J2UDCXDXHWN.gfortran-win_amd64.dll\n",
      "  stacklevel=1)\n"
     ]
    }
   ],
   "source": [
    "import tensorflow as tf\n",
    "from tensorflow import keras\n",
    "from tensorflow.keras import layers\n",
    "import numpy as np"
   ]
  },
  {
   "cell_type": "code",
   "execution_count": 2,
   "metadata": {},
   "outputs": [],
   "source": [
    "def random_one_hot_labels(shape):\n",
    "  n, n_class = shape\n",
    "  classes = np.random.randint(0, n_class, n)\n",
    "  labels = np.zeros((n, n_class))\n",
    "  labels[np.arange(n), classes] = 1\n",
    "  return labels\n",
    "\n",
    "x_train = np.random.random((1000, 32))\n",
    "y_train = random_one_hot_labels((1000, 10))\n",
    "\n",
    "x_cv = np.random.random((200, 32))\n",
    "y_cv = random_one_hot_labels((200, 10))\n",
    "\n",
    "x_test = np.random.random((200, 32))\n",
    "y_test = random_one_hot_labels((200, 10))"
   ]
  },
  {
   "cell_type": "code",
   "execution_count": 3,
   "metadata": {},
   "outputs": [
    {
     "name": "stdout",
     "output_type": "stream",
     "text": [
      "(1000, 32)\n",
      "(1000, 10) \n",
      "\n",
      "(200, 32)\n",
      "(200, 10) \n",
      "\n",
      "(200, 32)\n",
      "(200, 10) \n",
      "\n"
     ]
    }
   ],
   "source": [
    "print(x_train.shape)\n",
    "print(y_train.shape, \"\\n\")\n",
    "\n",
    "print(x_cv.shape)\n",
    "print(y_cv.shape, \"\\n\")\n",
    "\n",
    "print(x_test.shape)\n",
    "print(y_test.shape, \"\\n\")"
   ]
  },
  {
   "cell_type": "code",
   "execution_count": 4,
   "metadata": {},
   "outputs": [
    {
     "name": "stderr",
     "output_type": "stream",
     "text": [
      "WARNING: Logging before flag parsing goes to stderr.\n",
      "W0729 19:22:34.973372 15844 deprecation.py:506] From c:\\users\\smrut\\appdata\\local\\programs\\python\\python37\\lib\\site-packages\\tensorflow\\python\\ops\\init_ops.py:1251: calling VarianceScaling.__init__ (from tensorflow.python.ops.init_ops) with dtype is deprecated and will be removed in a future version.\n",
      "Instructions for updating:\n",
      "Call initializer instance with the dtype argument instead of passing it to the constructor\n"
     ]
    }
   ],
   "source": [
    "inputs = keras.Input(shape=(32,))\n",
    "x = layers.Dense(128, activation = 'relu')(inputs)\n",
    "x = layers.Dense(128, activation = keras.activations.relu)(x)\n",
    "predictions = layers.Dense(10, activation = 'softmax')(x)"
   ]
  },
  {
   "cell_type": "code",
   "execution_count": 5,
   "metadata": {},
   "outputs": [],
   "source": [
    "model = keras.Model(inputs = inputs, outputs = predictions)"
   ]
  },
  {
   "cell_type": "code",
   "execution_count": 6,
   "metadata": {},
   "outputs": [
    {
     "name": "stderr",
     "output_type": "stream",
     "text": [
      "W0729 19:22:35.374560 15844 deprecation.py:506] From c:\\users\\smrut\\appdata\\local\\programs\\python\\python37\\lib\\site-packages\\tensorflow\\python\\training\\rmsprop.py:119: calling Ones.__init__ (from tensorflow.python.ops.init_ops) with dtype is deprecated and will be removed in a future version.\n",
      "Instructions for updating:\n",
      "Call initializer instance with the dtype argument instead of passing it to the constructor\n"
     ]
    },
    {
     "name": "stdout",
     "output_type": "stream",
     "text": [
      "Train on 1000 samples, validate on 200 samples\n",
      "Epoch 1/10\n",
      "1000/1000 [==============================] - 0s 125us/sample - loss: 2.3408 - acc: 0.1130 - val_loss: 2.3322 - val_acc: 0.1200\n",
      "Epoch 2/10\n",
      "1000/1000 [==============================] - 0s 46us/sample - loss: 2.3244 - acc: 0.1200 - val_loss: 2.3141 - val_acc: 0.1050\n",
      "Epoch 3/10\n",
      "1000/1000 [==============================] - 0s 45us/sample - loss: 2.3084 - acc: 0.1170 - val_loss: 2.3181 - val_acc: 0.0750\n",
      "Epoch 4/10\n",
      "1000/1000 [==============================] - 0s 44us/sample - loss: 2.3016 - acc: 0.1250 - val_loss: 2.2988 - val_acc: 0.1250\n",
      "Epoch 5/10\n",
      "1000/1000 [==============================] - 0s 44us/sample - loss: 2.2925 - acc: 0.1240 - val_loss: 2.3138 - val_acc: 0.1100\n",
      "Epoch 6/10\n",
      "1000/1000 [==============================] - 0s 51us/sample - loss: 2.2763 - acc: 0.1440 - val_loss: 2.3077 - val_acc: 0.1100\n",
      "Epoch 7/10\n",
      "1000/1000 [==============================] - 0s 50us/sample - loss: 2.2596 - acc: 0.1580 - val_loss: 2.3072 - val_acc: 0.0950\n",
      "Epoch 8/10\n",
      "1000/1000 [==============================] - 0s 51us/sample - loss: 2.2461 - acc: 0.1770 - val_loss: 2.3146 - val_acc: 0.0950\n",
      "Epoch 9/10\n",
      "1000/1000 [==============================] - 0s 48us/sample - loss: 2.2262 - acc: 0.2040 - val_loss: 2.3191 - val_acc: 0.1150\n",
      "Epoch 10/10\n",
      "1000/1000 [==============================] - 0s 46us/sample - loss: 2.2114 - acc: 0.2140 - val_loss: 2.3306 - val_acc: 0.0800\n"
     ]
    },
    {
     "data": {
      "text/plain": [
       "<tensorflow.python.keras.callbacks.History at 0x1ff40fae208>"
      ]
     },
     "execution_count": 6,
     "metadata": {},
     "output_type": "execute_result"
    }
   ],
   "source": [
    "# The compile step specifies the training configuration.\n",
    "model.compile(optimizer=tf.train.RMSPropOptimizer(0.001),\n",
    "              loss='categorical_crossentropy',\n",
    "              metrics=['accuracy'])\n",
    "\n",
    "# Trains for 5 epochs\n",
    "model.fit(x_train, y_train, batch_size = 32, epochs = 10, validation_data = (x_cv, y_cv))"
   ]
  },
  {
   "cell_type": "code",
   "execution_count": 7,
   "metadata": {},
   "outputs": [
    {
     "name": "stdout",
     "output_type": "stream",
     "text": [
      "200/200 [==============================] - 0s 40us/sample - loss: 2.3249 - acc: 0.1450\n"
     ]
    },
    {
     "data": {
      "text/plain": [
       "[2.324930453300476, 0.145]"
      ]
     },
     "execution_count": 7,
     "metadata": {},
     "output_type": "execute_result"
    }
   ],
   "source": [
    "model.evaluate(x_test, y_test, batch_size = 30)"
   ]
  },
  {
   "cell_type": "code",
   "execution_count": 37,
   "metadata": {},
   "outputs": [],
   "source": [
    "class MyModel(tf.keras.Model):\n",
    "\n",
    "  def __init__(self, num_classes):\n",
    "    super().__init__()\n",
    "    self.num_classes = num_classes\n",
    "    # Define your layers here.\n",
    "    self.dense_1 = layers.Dense(32, activation='relu')\n",
    "    self.dense_2 = layers.Dense(num_classes, activation='sigmoid')\n",
    "\n",
    "  def call(self, inputs):\n",
    "    # Define your forward pass here,\n",
    "    # using layers you previously defined (in `__init__`).\n",
    "    x = self.dense_1(inputs)\n",
    "    return self.dense_2(x)\n",
    "\n",
    "  def compute_output_shape(self, input_shape):\n",
    "    # You need to override this function if you want to use the subclassed model\n",
    "    # as part of a functional-style model.\n",
    "    # Otherwise, this method is optional.\n",
    "    shape = tf.TensorShape(input_shape).as_list()\n",
    "    shape[-1] = self.num_classes\n",
    "    return tf.TensorShape(shape)"
   ]
  },
  {
   "cell_type": "code",
   "execution_count": 38,
   "metadata": {},
   "outputs": [
    {
     "name": "stdout",
     "output_type": "stream",
     "text": [
      "Epoch 1/5\n",
      "1000/1000 [==============================] - 0s 121us/sample - loss: 2.3125 - acc: 0.0960\n",
      "Epoch 2/5\n",
      "1000/1000 [==============================] - 0s 45us/sample - loss: 2.3120 - acc: 0.0950\n",
      "Epoch 3/5\n",
      "1000/1000 [==============================] - 0s 45us/sample - loss: 2.3099 - acc: 0.1020\n",
      "Epoch 4/5\n",
      "1000/1000 [==============================] - 0s 46us/sample - loss: 2.3053 - acc: 0.0990\n",
      "Epoch 5/5\n",
      "1000/1000 [==============================] - 0s 41us/sample - loss: 2.3009 - acc: 0.1150\n"
     ]
    },
    {
     "data": {
      "text/plain": [
       "<tensorflow.python.keras.callbacks.History at 0x1ff46841ba8>"
      ]
     },
     "execution_count": 38,
     "metadata": {},
     "output_type": "execute_result"
    }
   ],
   "source": [
    "model = MyModel(num_classes=10)\n",
    "\n",
    "# The compile step specifies the training configuration.\n",
    "model.compile(optimizer=tf.train.RMSPropOptimizer(0.001),\n",
    "              loss='categorical_crossentropy',\n",
    "              metrics=['accuracy'])\n",
    "\n",
    "# Trains for 5 epochs.\n",
    "model.fit(x_train, y_train, batch_size=32, epochs=5)"
   ]
  }
 ],
 "metadata": {
  "kernelspec": {
   "display_name": "Python 3",
   "language": "python",
   "name": "python3"
  },
  "language_info": {
   "codemirror_mode": {
    "name": "ipython",
    "version": 3
   },
   "file_extension": ".py",
   "mimetype": "text/x-python",
   "name": "python",
   "nbconvert_exporter": "python",
   "pygments_lexer": "ipython3",
   "version": "3.7.1"
  }
 },
 "nbformat": 4,
 "nbformat_minor": 2
}
