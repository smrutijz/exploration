{
 "cells": [
  {
   "cell_type": "code",
   "execution_count": 1,
   "metadata": {},
   "outputs": [],
   "source": [
    "import numpy as np\n",
    "from scipy.stats import norm\n",
    "import matplotlib.pyplot as plt\n",
    "%matplotlib inline"
   ]
  },
  {
   "cell_type": "markdown",
   "metadata": {},
   "source": [
    "#### Kernel"
   ]
  },
  {
   "cell_type": "code",
   "execution_count": 9,
   "metadata": {},
   "outputs": [],
   "source": [
    "def squared_exponential_kernel(a, b, sigma=1, l=1):\n",
    "    sqdist = np.subtract.outer(a, b)**2\n",
    "    cov = sigma**2 * np.exp(-0.5 * sqdist / l**2)\n",
    "    return cov.squeeze()"
   ]
  },
  {
   "cell_type": "markdown",
   "metadata": {},
   "source": [
    "#### Posterior mean & co-variance function"
   ]
  },
  {
   "cell_type": "code",
   "execution_count": 10,
   "metadata": {},
   "outputs": [],
   "source": [
    "def posterior(x_star, x, y):\n",
    "    N = x.shape[0]\n",
    "    N_star = x_star.shape[0]\n",
    "    K = (squared_exponential_kernel(x, x)+1e-6*np.eye(N)).reshape(N, N)\n",
    "    K_star = squared_exponential_kernel(x_star, x).reshape(N_star, N)\n",
    "    K_star_star = squared_exponential_kernel(x_star, x_star).reshape(N_star, N_star)\n",
    "    CK = np.linalg.inv(K).dot(K_star.T)\n",
    "    mu_new = CK.T.dot(y)\n",
    "    K_new = K_star_star - K_star.dot(CK) + 1e-6*np.eye(N_star)\n",
    "    return mu_new.squeeze(), np.diag(K_new.squeeze())"
   ]
  },
  {
   "cell_type": "code",
   "execution_count": 11,
   "metadata": {},
   "outputs": [],
   "source": [
    "N = 1000\n",
    "x_star = np.linspace(0,1,N)"
   ]
  },
  {
   "cell_type": "markdown",
   "metadata": {},
   "source": [
    "#### Real Objective Function\n",
    "y = x^2 * sin(5 * PI * x)^6"
   ]
  },
  {
   "cell_type": "code",
   "execution_count": 12,
   "metadata": {},
   "outputs": [],
   "source": [
    "def objective(x, noise=0):\n",
    "    noise = np.random.normal(loc=0, scale=noise)\n",
    "    return (x**2 * np.sin(5 * np.pi * x)**6.0) + noise"
   ]
  },
  {
   "cell_type": "code",
   "execution_count": 13,
   "metadata": {},
   "outputs": [
    {
     "name": "stdout",
     "output_type": "stream",
     "text": [
      "0.9019019019019019 0.8112516409061398\n"
     ]
    }
   ],
   "source": [
    "y_star = objective(x_star)\n",
    "i = y_star.argmax(axis=0)\n",
    "print(x_star[i],y_star[i])"
   ]
  },
  {
   "cell_type": "code",
   "execution_count": 14,
   "metadata": {},
   "outputs": [
    {
     "data": {
      "image/png": "[encoded data removed]",
      "text/plain": [
       "<Figure size 432x288 with 1 Axes>"
      ]
     },
     "metadata": {
      "needs_background": "light"
     },
     "output_type": "display_data"
    }
   ],
   "source": [
    "plt.plot(x_star, y_star);"
   ]
  },
  {
   "cell_type": "markdown",
   "metadata": {},
   "source": [
    "#### random start"
   ]
  },
  {
   "cell_type": "code",
   "execution_count": 119,
   "metadata": {
    "scrolled": true
   },
   "outputs": [
    {
     "name": "stdout",
     "output_type": "stream",
     "text": [
      "random x & y : [0.32032032] & [0.07518139]\n",
      "best so far 0.3203203203203203 0.07518139224183958\n",
      "best so far 0.3203203203203203 0.07518139224183958\n",
      "best so far 0.3203203203203203 0.07518139224183958\n",
      "best so far 0.3203203203203203 0.07518139224183958\n",
      "best so far 0.3203203203203203 0.07518139224183958\n",
      "best so far 0.4894894894894895 0.2207042863663563\n",
      "best so far 0.4894894894894895 0.2207042863663563\n",
      "best so far 0.4894894894894895 0.2207042863663563\n",
      "best so far 0.49149149149149146 0.22892298436480923\n",
      "best so far 0.5085085085085085 0.2450495104845268\n"
     ]
    }
   ],
   "source": [
    "for itteration in range(10):\n",
    "    if itteration == 0:\n",
    "        x = np.random.choice(x_star,1)\n",
    "        y = objective(x)\n",
    "        print(\"random x & y :\", x, \"&\", y)\n",
    "\n",
    "    mu_star, sd_star = posterior(x_star, x, y)\n",
    "    best = max(mu_star)\n",
    "    acq = norm.cdf((mu_star - best) / (sd_star+1E-9))\n",
    "    \n",
    "    x_new = x_star[acq.argmax()]\n",
    "    while x_new in x:\n",
    "        x_new = np.random.choice(x_star,1)\n",
    "    \n",
    "    y_new = objective(x_new)\n",
    "    #print(\"new x & y :\", x_new, \"&\", y_new)\n",
    "    x = np.append(x, x_new)\n",
    "    y = np.append(y, y_new)\n",
    "    print(\"best so far\", x[y.argmax()], y[y.argmax()])\n",
    "    "
   ]
  },
  {
   "cell_type": "code",
   "execution_count": 87,
   "metadata": {},
   "outputs": [
    {
     "data": {
      "image/png": "[encoded data removed]",
      "text/plain": [
       "<Figure size 432x288 with 1 Axes>"
      ]
     },
     "metadata": {
      "needs_background": "light"
     },
     "output_type": "display_data"
    }
   ],
   "source": [
    "# plot mean and 2σ intervals\n",
    "plt.plot(x_star, mu_star, 'r', lw=2, label=\"mean and 2σ region\");\n",
    "plt.plot(x_star, mu_star + 2*sd_star, 'r', lw=1);\n",
    "plt.plot(x_star, mu_star - 2*sd_star, 'r', lw=1);\n",
    "plt.fill_between(x_star.flatten(), mu_star - 2*sd_star, mu_star + 2*sd_star, color=\"r\", alpha=0.5);\n",
    "plt.plot(x_star, acq, 'g', lw=2, label=\"acquisition\");\n",
    "plt.scatter(x, y, color=\"blue\");\n",
    "plt.xlabel(\"x\");\n",
    "plt.ylabel(\"y\");\n",
    "plt.show();"
   ]
  },
  {
   "cell_type": "code",
   "execution_count": 40,
   "metadata": {},
   "outputs": [
    {
     "data": {
      "text/plain": [
       "(0.9009009009009009, 0.8111349573617112)"
      ]
     },
     "execution_count": 40,
     "metadata": {},
     "output_type": "execute_result"
    }
   ],
   "source": [
    "x[y.argmax()], y[y.argmax()]"
   ]
  },
  {
   "cell_type": "raw",
   "metadata": {},
   "source": [
    "from sklearn.gaussian_process import GaussianProcessRegressor\n",
    "from sklearn.gaussian_process import kernels"
   ]
  },
  {
   "cell_type": "code",
   "execution_count": 59,
   "metadata": {},
   "outputs": [
    {
     "ename": "TypeError",
     "evalue": "__init__() got an unexpected keyword argument 'return_std'",
     "output_type": "error",
     "traceback": [
      "\u001b[1;31m---------------------------------------------------------------------------\u001b[0m",
      "\u001b[1;31mTypeError\u001b[0m                                 Traceback (most recent call last)",
      "\u001b[1;32m<ipython-input-59-21401b8b7c8d>\u001b[0m in \u001b[0;36m<module>\u001b[1;34m\u001b[0m\n\u001b[1;32m----> 1\u001b[1;33m \u001b[0mgpr\u001b[0m \u001b[1;33m=\u001b[0m \u001b[0mGaussianProcessRegressor\u001b[0m\u001b[1;33m(\u001b[0m\u001b[0mkernel\u001b[0m\u001b[1;33m=\u001b[0m\u001b[0mkernels\u001b[0m\u001b[1;33m.\u001b[0m\u001b[0mRBF\u001b[0m\u001b[1;33m(\u001b[0m\u001b[1;33m)\u001b[0m\u001b[1;33m,\u001b[0m \u001b[0mrandom_state\u001b[0m\u001b[1;33m=\u001b[0m\u001b[1;36m0\u001b[0m\u001b[1;33m,\u001b[0m \u001b[0mreturn_std\u001b[0m\u001b[1;33m=\u001b[0m\u001b[1;32mTrue\u001b[0m\u001b[1;33m)\u001b[0m\u001b[1;33m.\u001b[0m\u001b[0mfit\u001b[0m\u001b[1;33m(\u001b[0m\u001b[0mx\u001b[0m\u001b[1;33m.\u001b[0m\u001b[0mreshape\u001b[0m\u001b[1;33m(\u001b[0m\u001b[1;33m(\u001b[0m\u001b[1;33m-\u001b[0m\u001b[1;36m1\u001b[0m\u001b[1;33m,\u001b[0m\u001b[1;36m1\u001b[0m\u001b[1;33m)\u001b[0m\u001b[1;33m)\u001b[0m\u001b[1;33m,\u001b[0m \u001b[0my\u001b[0m\u001b[1;33m.\u001b[0m\u001b[0mreshape\u001b[0m\u001b[1;33m(\u001b[0m\u001b[1;33m(\u001b[0m\u001b[1;33m-\u001b[0m\u001b[1;36m1\u001b[0m\u001b[1;33m,\u001b[0m\u001b[1;36m1\u001b[0m\u001b[1;33m)\u001b[0m\u001b[1;33m)\u001b[0m\u001b[1;33m)\u001b[0m\u001b[1;33m\u001b[0m\u001b[1;33m\u001b[0m\u001b[0m\n\u001b[0m",
      "\u001b[1;31mTypeError\u001b[0m: __init__() got an unexpected keyword argument 'return_std'"
     ]
    }
   ],
   "source": [
    "gpr = GaussianProcessRegressor(kernel=kernels.RBF(), random_state=0).fit(x.reshape((-1,1)), y.reshape((-1,1)))"
   ]
  },
  {
   "cell_type": "code",
   "execution_count": 69,
   "metadata": {},
   "outputs": [
    {
     "data": {
      "text/plain": [
       "(1000,)"
      ]
     },
     "execution_count": 69,
     "metadata": {},
     "output_type": "execute_result"
    }
   ],
   "source": [
    "gpr.predict(x_star.reshape((-1,1)), return_std=True)"
   ]
  },
  {
   "cell_type": "code",
   "execution_count": 16,
   "metadata": {},
   "outputs": [],
   "source": [
    "x = np.random.choice(x_star,1)\n",
    "y = objective(x)"
   ]
  },
  {
   "cell_type": "code",
   "execution_count": 97,
   "metadata": {},
   "outputs": [
    {
     "data": {
      "text/plain": [
       "(1,)"
      ]
     },
     "execution_count": 97,
     "metadata": {},
     "output_type": "execute_result"
    }
   ],
   "source": [
    "np.random.choice(x_star,1).shape"
   ]
  },
  {
   "cell_type": "code",
   "execution_count": 171,
   "metadata": {},
   "outputs": [
    {
     "name": "stdout",
     "output_type": "stream",
     "text": [
      "random x & y : 0.7077077077077077 & 0.47925059571839607\n",
      "best so far 0.7077077077077077 0.47925059571839607\n",
      "best so far 0.7077077077077077 0.47925059571839607\n",
      "best so far 0.7077077077077077 0.47925059571839607\n",
      "best so far 0.7077077077077077 0.47925059571839607\n",
      "best so far 0.8888888888888888 0.7207816289012945\n",
      "best so far 0.8888888888888888 0.7207816289012945\n",
      "best so far 0.8888888888888888 0.7207816289012945\n",
      "best so far 0.8888888888888888 0.7207816289012945\n",
      "best so far 0.8888888888888888 0.7207816289012945\n",
      "best so far 0.8888888888888888 0.7207816289012945\n"
     ]
    }
   ],
   "source": [
    "for itteration in range(10):\n",
    "    if itteration == 0:\n",
    "        x = np.random.choice(x_star,1)\n",
    "        y = objective(x)\n",
    "        print(\"random x & y :\", x[0], \"&\", y[0])\n",
    "\n",
    "    gpr = GaussianProcessRegressor(kernel=kernels.RBF(), random_state=0).fit(x.reshape((-1,1)), y.reshape((-1,1)))\n",
    "    mu_star, sd_star = gpr.predict(x_star.reshape((-1,1)), return_std=True)\n",
    "    mu_star = mu_star[:,0]\n",
    "    best = max(mu_star)\n",
    "    acq = norm.cdf((mu_star - best) / (sd_star+1E-9))\n",
    "    \n",
    "    x_new = x_star[acq.argmax()]\n",
    "    while x_new in x:\n",
    "        x_new = np.random.choice(x_star,1)\n",
    "    \n",
    "    y_new = objective(x_new)\n",
    "    #print(\"new x & y :\", x_new, \"&\", y_new)\n",
    "    x = np.append(x, x_new)\n",
    "    y = np.append(y, y_new)\n",
    "    print(\"best so far\", x[y.argmax()], y[y.argmax()])"
   ]
  },
  {
   "cell_type": "code",
   "execution_count": 172,
   "metadata": {},
   "outputs": [
    {
     "data": {
      "image/png": "[encoded data removed]",
      "text/plain": [
       "<Figure size 432x288 with 1 Axes>"
      ]
     },
     "metadata": {
      "needs_background": "light"
     },
     "output_type": "display_data"
    }
   ],
   "source": [
    "# plot mean and 2σ intervals\n",
    "plt.plot(x_star, mu_star, 'r', lw=2, label=\"mean and 2σ region\");\n",
    "plt.plot(x_star, mu_star + 2*sd_star, 'r', lw=1);\n",
    "plt.plot(x_star, mu_star - 2*sd_star, 'r', lw=1);\n",
    "plt.fill_between(x_star.flatten(), mu_star - 2*sd_star, mu_star + 2*sd_star, color=\"r\", alpha=0.5);\n",
    "plt.plot(x_star, acq, 'g', lw=2, label=\"acquisition\");\n",
    "plt.scatter(x, y, color=\"blue\");\n",
    "plt.xlabel(\"x\");\n",
    "plt.ylabel(\"y\");\n",
    "plt.show();"
   ]
  },
  {
   "cell_type": "code",
   "execution_count": 173,
   "metadata": {},
   "outputs": [
    {
     "data": {
      "text/plain": [
       "array([0.70770771, 0.64764765, 0.69469469, 0.63063063, 0.79079079,\n",
       "       0.88888889, 0.46046046, 0.4014014 , 0.21321321, 0.41541542,\n",
       "       0.78578579])"
      ]
     },
     "execution_count": 173,
     "metadata": {},
     "output_type": "execute_result"
    }
   ],
   "source": [
    "x"
   ]
  },
  {
   "cell_type": "code",
   "execution_count": 174,
   "metadata": {},
   "outputs": [],
   "source": [
    "m1, s1 = posterior(x_star, x,y)"
   ]
  },
  {
   "cell_type": "code",
   "execution_count": 196,
   "metadata": {},
   "outputs": [],
   "source": [
    "gpr = GaussianProcessRegressor(kernel=kernels.RBF(1.0, (1e-3, 1e3)), random_state=0).fit(x.reshape((-1,1)), y.reshape((-1,1)))\n",
    "m2, s2 = gpr.predict(x_star.reshape((-1,1)), return_std=True)\n",
    "m2 = m2[:,0]\n"
   ]
  },
  {
   "cell_type": "code",
   "execution_count": 197,
   "metadata": {},
   "outputs": [
    {
     "data": {
      "image/png": "[encoded data removed]",
      "text/plain": [
       "<Figure size 432x288 with 1 Axes>"
      ]
     },
     "metadata": {
      "needs_background": "light"
     },
     "output_type": "display_data"
    }
   ],
   "source": [
    "# plot mean and 2σ intervals\n",
    "plt.plot(x_star, m1, 'r', lw=2, label=\"mean and 2σ region\");\n",
    "plt.plot(x_star, m1 + 2*s1, 'r', lw=1);\n",
    "plt.plot(x_star, m1 - 2*s1, 'r', lw=1);\n",
    "plt.fill_between(x_star.flatten(), m1 - 2*s1, m1 + 2*s1, color=\"r\", alpha=0.5);\n",
    "plt.plot(x_star, acq, 'g', lw=2, label=\"acquisition\");\n",
    "plt.scatter(x, y, color=\"blue\");\n",
    "plt.xlabel(\"x\");\n",
    "plt.ylabel(\"y\");\n",
    "plt.show();"
   ]
  },
  {
   "cell_type": "code",
   "execution_count": 199,
   "metadata": {},
   "outputs": [
    {
     "data": {
      "image/png": "[encoded data removed]",
      "text/plain": [
       "<Figure size 432x288 with 1 Axes>"
      ]
     },
     "metadata": {
      "needs_background": "light"
     },
     "output_type": "display_data"
    }
   ],
   "source": [
    "# plot mean and 2σ intervals\n",
    "plt.plot(x_star, m2, 'r', lw=2, label=\"mean and 2σ region\");\n",
    "plt.plot(x_star, m2 + 1.96*s2, 'r', lw=1);\n",
    "plt.plot(x_star, m2 - 1.96*s2, 'r', lw=1);\n",
    "plt.fill_between(x_star.flatten(), m2 - 2*s2, m2 + 2*s2, color=\"r\", alpha=0.5);\n",
    "plt.plot(x_star, acq, 'g', lw=2, label=\"acquisition\");\n",
    "plt.scatter(x, y, color=\"blue\");\n",
    "plt.xlabel(\"x\");\n",
    "plt.ylabel(\"y\");\n",
    "plt.show();"
   ]
  },
  {
   "cell_type": "code",
   "execution_count": null,
   "metadata": {},
   "outputs": [],
   "source": []
  }
 ],
 "metadata": {
  "kernelspec": {
   "display_name": "Python 3",
   "language": "python",
   "name": "python3"
  },
  "language_info": {
   "codemirror_mode": {
    "name": "ipython",
    "version": 3
   },
   "file_extension": ".py",
   "mimetype": "text/x-python",
   "name": "python",
   "nbconvert_exporter": "python",
   "pygments_lexer": "ipython3",
   "version": "3.7.4"
  }
 },
 "nbformat": 4,
 "nbformat_minor": 2
}
