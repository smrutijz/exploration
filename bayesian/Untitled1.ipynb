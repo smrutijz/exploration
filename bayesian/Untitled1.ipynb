{
 "cells": [
  {
   "cell_type": "code",
   "execution_count": 1,
   "metadata": {},
   "outputs": [],
   "source": [
    "import numpy as np\n",
    "from scipy.stats import norm\n",
    "import matplotlib.pyplot as plt\n",
    "%matplotlib inline"
   ]
  },
  {
   "cell_type": "markdown",
   "metadata": {},
   "source": [
    "#### Kernel"
   ]
  },
  {
   "cell_type": "code",
   "execution_count": 2,
   "metadata": {},
   "outputs": [],
   "source": [
    "def squared_exponential_kernel(a, b, sigma=1, l=1):\n",
    "    sqdist = np.subtract.outer(a, b)**2\n",
    "    cov = sigma**2 * np.exp(-0.5 * sqdist / l**2)\n",
    "    return cov.squeeze()"
   ]
  },
  {
   "cell_type": "markdown",
   "metadata": {},
   "source": [
    "#### Posterior mean & co-variance function"
   ]
  },
  {
   "cell_type": "code",
   "execution_count": 3,
   "metadata": {},
   "outputs": [],
   "source": [
    "def posterior(x_star, x, y):\n",
    "    N = x.shape[0]\n",
    "    N_star = x_star.shape[0]\n",
    "    K = (squared_exponential_kernel(x, x)+1e-6*np.eye(N)).reshape(N, N)\n",
    "    K_star = squared_exponential_kernel(x_star, x).reshape(N_star, N)\n",
    "    K_star_star = squared_exponential_kernel(x_star, x_star).reshape(N_star, N_star)\n",
    "    CK = np.linalg.inv(K).dot(K_star.T)\n",
    "    mu_new = CK.T.dot(y)\n",
    "    K_new = K_star_star - K_star.dot(CK) + 1e-6*np.eye(N_star)\n",
    "    return mu_new.squeeze(), np.diag(K_new.squeeze())"
   ]
  },
  {
   "cell_type": "code",
   "execution_count": 4,
   "metadata": {},
   "outputs": [],
   "source": [
    "N = 1000\n",
    "x_star = np.linspace(0,1,N)"
   ]
  },
  {
   "cell_type": "markdown",
   "metadata": {},
   "source": [
    "#### Real Objective Function\n",
    "y = x^2 * sin(5 * PI * x)^6"
   ]
  },
  {
   "cell_type": "code",
   "execution_count": 13,
   "metadata": {},
   "outputs": [],
   "source": [
    "def objective(x, noise=0):\n",
    "    noise = np.random.normal(loc=0, scale=noise)\n",
    "    return (x**2 * np.sin(5 * np.pi * x)**6.0) + noise"
   ]
  },
  {
   "cell_type": "code",
   "execution_count": 14,
   "metadata": {},
   "outputs": [
    {
     "name": "stdout",
     "output_type": "stream",
     "text": [
      "0.9019019019019019 0.8112516409061398\n"
     ]
    }
   ],
   "source": [
    "y_star = objective(x_star)\n",
    "i = y_star.argmax(axis=0)\n",
    "print(x_star[i],y_star[i])"
   ]
  },
  {
   "cell_type": "code",
   "execution_count": 15,
   "metadata": {},
   "outputs": [
    {
     "data": {
      "image/png": "[encoded data removed]",
      "text/plain": [
       "<Figure size 432x288 with 1 Axes>"
      ]
     },
     "metadata": {
      "needs_background": "light"
     },
     "output_type": "display_data"
    }
   ],
   "source": [
    "plt.plot(x_star, y_star);"
   ]
  },
  {
   "cell_type": "markdown",
   "metadata": {},
   "source": [
    "#### random start"
   ]
  },
  {
   "cell_type": "code",
   "execution_count": 38,
   "metadata": {
    "scrolled": true
   },
   "outputs": [
    {
     "name": "stdout",
     "output_type": "stream",
     "text": [
      "random x & y : [0.1001001] & [0.01001996]\n",
      "best so far 0.10010010010010009 0.010019955721432204\n",
      "best so far 0.10010010010010009 0.010019955721432204\n",
      "best so far 0.10010010010010009 0.010019955721432204\n",
      "best so far 0.10010010010010009 0.010019955721432204\n",
      "best so far 0.10010010010010009 0.010019955721432204\n",
      "best so far 0.10010010010010009 0.010019955721432204\n",
      "best so far 0.10010010010010009 0.010019955721432204\n",
      "best so far 0.10010010010010009 0.010019955721432204\n",
      "best so far 0.948948948948949 0.12408349249918459\n",
      "best so far 0.933933933933934 0.35601451964788894\n",
      "best so far 0.9089089089089089 0.7788289317327501\n",
      "best so far 0.9089089089089089 0.7788289317327501\n",
      "best so far 0.9089089089089089 0.7788289317327501\n",
      "best so far 0.9089089089089089 0.7788289317327501\n",
      "best so far 0.9089089089089089 0.7788289317327501\n",
      "best so far 0.9089089089089089 0.7788289317327501\n",
      "best so far 0.9089089089089089 0.7788289317327501\n",
      "best so far 0.9089089089089089 0.7788289317327501\n",
      "best so far 0.9009009009009009 0.8111349573617112\n",
      "best so far 0.9009009009009009 0.8111349573617112\n"
     ]
    }
   ],
   "source": [
    "for itteration in range(20):\n",
    "    if itteration == 0:\n",
    "        x = np.random.choice(x_star,1)\n",
    "        y = objective(x)\n",
    "        print(\"random x & y :\", x, \"&\", y)\n",
    "\n",
    "    mu_star, sd_star = posterior(x_star, x, y)\n",
    "    best = max(mu_star)\n",
    "    acq = norm.cdf((mu_star - best) / (sd_star+1E-9))\n",
    "    \n",
    "    x_new = x_star[acq.argmax()]\n",
    "    while x_new in x:\n",
    "        x_new = np.random.choice(x_star,1)\n",
    "    \n",
    "    y_new = objective(x_new)\n",
    "    #print(\"new x & y :\", x_new, \"&\", y_new)\n",
    "    x = np.append(x, x_new)\n",
    "    y = np.append(y, y_new)\n",
    "    print(\"best so far\", x[y.argmax()], y[y.argmax()])\n",
    "    "
   ]
  },
  {
   "cell_type": "code",
   "execution_count": 39,
   "metadata": {},
   "outputs": [
    {
     "data": {
      "image/png": "[encoded data removed]",
      "text/plain": [
       "<Figure size 432x288 with 1 Axes>"
      ]
     },
     "metadata": {
      "needs_background": "light"
     },
     "output_type": "display_data"
    }
   ],
   "source": [
    "# plot mean and 2σ intervals\n",
    "plt.plot(x_star, mu_star, 'r', lw=2, label=\"mean and 2σ region\");\n",
    "plt.plot(x_star, mu_star + 2*sd_star, 'r', lw=1);\n",
    "plt.plot(x_star, mu_star - 2*sd_star, 'r', lw=1);\n",
    "plt.fill_between(x_star.flatten(), mu_star - 2*sd_star, mu_star + 2*sd_star, color=\"r\", alpha=0.5);\n",
    "plt.plot(x_star, acq, 'g', lw=2, label=\"acquisition\");\n",
    "plt.scatter(x, y, color=\"blue\");\n",
    "plt.xlabel(\"x\");\n",
    "plt.ylabel(\"y\");\n",
    "plt.show();"
   ]
  },
  {
   "cell_type": "code",
   "execution_count": 40,
   "metadata": {},
   "outputs": [
    {
     "data": {
      "text/plain": [
       "(0.9009009009009009, 0.8111349573617112)"
      ]
     },
     "execution_count": 40,
     "metadata": {},
     "output_type": "execute_result"
    }
   ],
   "source": [
    "x[y.argmax()], y[y.argmax()]"
   ]
  },
  {
   "cell_type": "code",
   "execution_count": null,
   "metadata": {},
   "outputs": [],
   "source": []
  }
 ],
 "metadata": {
  "kernelspec": {
   "display_name": "Python 3",
   "language": "python",
   "name": "python3"
  },
  "language_info": {
   "codemirror_mode": {
    "name": "ipython",
    "version": 3
   },
   "file_extension": ".py",
   "mimetype": "text/x-python",
   "name": "python",
   "nbconvert_exporter": "python",
   "pygments_lexer": "ipython3",
   "version": "3.7.4"
  }
 },
 "nbformat": 4,
 "nbformat_minor": 2
}
