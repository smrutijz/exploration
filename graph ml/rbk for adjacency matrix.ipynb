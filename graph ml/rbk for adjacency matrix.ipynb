{
 "cells": [
  {
   "cell_type": "code",
   "execution_count": null,
   "metadata": {},
   "outputs": [],
   "source": [
    "import numpy as np\n",
    "import networkx\n",
    "\n",
    "from matplotlib import pyplot as plt\n",
    "import scipy\n",
    "from math import factorial"
   ]
  },
  {
   "cell_type": "code",
   "execution_count": null,
   "metadata": {},
   "outputs": [],
   "source": [
    "EPS = 0.0001\n",
    "G = networkx.DiGraph()"
   ]
  },
  {
   "cell_type": "code",
   "execution_count": null,
   "metadata": {},
   "outputs": [],
   "source": [
    "G.add_nodes_from(np.arange(1,7))"
   ]
  },
  {
   "cell_type": "code",
   "execution_count": 4,
   "metadata": {},
   "outputs": [
    {
     "data": {
      "text/plain": [
       "array([1, 2, 3, 4, 5, 6])"
      ]
     },
     "execution_count": 4,
     "metadata": {},
     "output_type": "execute_result"
    }
   ],
   "source": [
    "V = np.array(G.nodes)\n",
    "V"
   ]
  },
  {
   "cell_type": "code",
   "execution_count": 5,
   "metadata": {},
   "outputs": [],
   "source": [
    "G.add_edge(1,4)\n",
    "G.add_edge(4,1)\n",
    "G.add_edge(1,2)\n",
    "G.add_edge(2,1)\n",
    "G.add_edge(1,3)\n",
    "G.add_edge(3,1)\n",
    "G.add_edge(2,3)\n",
    "G.add_edge(3,2)\n",
    "G.add_edge(3,6)\n",
    "G.add_edge(6,3)\n",
    "G.add_edge(3,5)\n",
    "G.add_edge(5,3)\n",
    "G.add_edge(5,6)\n",
    "G.add_edge(6,5)"
   ]
  },
  {
   "cell_type": "code",
   "execution_count": 77,
   "metadata": {},
   "outputs": [
    {
     "data": {
      "image/png": "[encoded data removed]",
      "text/plain": [
       "<Figure size 432x288 with 1 Axes>"
      ]
     },
     "metadata": {},
     "output_type": "display_data"
    }
   ],
   "source": [
    "networkx.draw(G, with_labels = True, pos=networkx.spring_layout(G))"
   ]
  },
  {
   "cell_type": "code",
   "execution_count": 6,
   "metadata": {},
   "outputs": [
    {
     "data": {
      "text/plain": [
       "array([[0, 1, 1, 1, 0, 0],\n",
       "       [1, 0, 1, 0, 0, 0],\n",
       "       [1, 1, 0, 0, 1, 1],\n",
       "       [1, 0, 0, 0, 0, 0],\n",
       "       [0, 0, 1, 0, 0, 1],\n",
       "       [0, 0, 1, 0, 1, 0]], dtype=int32)"
      ]
     },
     "execution_count": 6,
     "metadata": {},
     "output_type": "execute_result"
    }
   ],
   "source": [
    "A = networkx.adjacency_matrix(G).A\n",
    "A"
   ]
  },
  {
   "cell_type": "markdown",
   "metadata": {},
   "source": [
    "### matrix expontatial"
   ]
  },
  {
   "cell_type": "code",
   "execution_count": 8,
   "metadata": {},
   "outputs": [
    {
     "data": {
      "text/plain": [
       "array([[3, 1, 1, 0, 1, 1],\n",
       "       [1, 2, 1, 1, 1, 1],\n",
       "       [1, 1, 4, 1, 1, 1],\n",
       "       [0, 1, 1, 1, 0, 0],\n",
       "       [1, 1, 1, 0, 2, 1],\n",
       "       [1, 1, 1, 0, 1, 2]], dtype=int32)"
      ]
     },
     "execution_count": 8,
     "metadata": {},
     "output_type": "execute_result"
    }
   ],
   "source": [
    "A @ A"
   ]
  },
  {
   "cell_type": "code",
   "execution_count": 9,
   "metadata": {},
   "outputs": [
    {
     "data": {
      "text/plain": [
       "array([[1, 0, 0, 0, 0, 0],\n",
       "       [0, 1, 0, 0, 0, 0],\n",
       "       [0, 0, 1, 0, 0, 0],\n",
       "       [0, 0, 0, 1, 0, 0],\n",
       "       [0, 0, 0, 0, 1, 0],\n",
       "       [0, 0, 0, 0, 0, 1]], dtype=int32)"
      ]
     },
     "execution_count": 9,
     "metadata": {},
     "output_type": "execute_result"
    }
   ],
   "source": [
    "np.linalg.matrix_power(A,0)"
   ]
  },
  {
   "cell_type": "code",
   "execution_count": 11,
   "metadata": {},
   "outputs": [],
   "source": [
    "X = np.ones((A.shape[0],2))\n",
    "gamma = +1"
   ]
  },
  {
   "cell_type": "code",
   "execution_count": 12,
   "metadata": {},
   "outputs": [
    {
     "data": {
      "text/plain": [
       "array([[3.68976161, 2.81466568, 3.40253116, 1.73948866, 1.43245364,\n",
       "        1.43245364],\n",
       "       [2.81466568, 2.97186122, 3.1719423 , 0.94848924, 1.36910975,\n",
       "        1.36910975],\n",
       "       [3.40253116, 3.1719423 , 5.12221525, 1.07517701, 3.10859842,\n",
       "        3.10859842],\n",
       "       [1.73948866, 0.94848924, 1.07517701, 1.66609536, 0.35727663,\n",
       "        0.35727663],\n",
       "       [1.43245364, 1.36910975, 3.10859842, 0.35727663, 2.89856486,\n",
       "        2.53068542],\n",
       "       [1.43245364, 1.36910975, 3.10859842, 0.35727663, 2.53068542,\n",
       "        2.89856486]])"
      ]
     },
     "execution_count": 12,
     "metadata": {},
     "output_type": "execute_result"
    }
   ],
   "source": [
    "Z = scipy.linalg.expm(A*gamma)\n",
    "Z"
   ]
  },
  {
   "cell_type": "code",
   "execution_count": 14,
   "metadata": {},
   "outputs": [
    {
     "data": {
      "text/plain": [
       "array([[3.68976161, 2.81466568, 3.40253116, 1.73948866, 1.43245364,\n",
       "        1.43245364],\n",
       "       [2.81466568, 2.97186122, 3.1719423 , 0.94848924, 1.36910975,\n",
       "        1.36910975],\n",
       "       [3.40253116, 3.1719423 , 5.12221525, 1.07517701, 3.10859842,\n",
       "        3.10859842],\n",
       "       [1.73948866, 0.94848924, 1.07517701, 1.66609536, 0.35727663,\n",
       "        0.35727663],\n",
       "       [1.43245364, 1.36910975, 3.10859842, 0.35727663, 2.89856486,\n",
       "        2.53068542],\n",
       "       [1.43245364, 1.36910975, 3.10859842, 0.35727663, 2.53068542,\n",
       "        2.89856486]])"
      ]
     },
     "execution_count": 14,
     "metadata": {},
     "output_type": "execute_result"
    }
   ],
   "source": [
    "for i in range(20):\n",
    "    if i == 0:\n",
    "        Z = np.linalg.matrix_power(A*gamma,i)/factorial(i)\n",
    "    else:\n",
    "        Z += np.linalg.matrix_power(A*gamma,i)/factorial(i)\n",
    "Z"
   ]
  },
  {
   "cell_type": "code",
   "execution_count": 19,
   "metadata": {},
   "outputs": [
    {
     "data": {
      "text/plain": [
       "array([[0, 1, 1, 1, 0, 0],\n",
       "       [1, 0, 1, 0, 0, 0],\n",
       "       [1, 1, 0, 0, 1, 1],\n",
       "       [1, 0, 0, 0, 0, 0],\n",
       "       [0, 0, 1, 0, 0, 1],\n",
       "       [0, 0, 1, 0, 1, 0]], dtype=int32)"
      ]
     },
     "execution_count": 19,
     "metadata": {},
     "output_type": "execute_result"
    }
   ],
   "source": [
    "A"
   ]
  },
  {
   "cell_type": "code",
   "execution_count": 18,
   "metadata": {},
   "outputs": [
    {
     "data": {
      "text/plain": [
       "array([[-0.36083845, -0.36083845],\n",
       "       [ 1.06447144,  1.06447144],\n",
       "       [-1.13921476, -1.13921476],\n",
       "       [ 0.84553027,  0.84553027],\n",
       "       [ 0.60759386,  0.60759386],\n",
       "       [ 0.60759386,  0.60759386]])"
      ]
     },
     "execution_count": 18,
     "metadata": {},
     "output_type": "execute_result"
    }
   ],
   "source": [
    "scipy.linalg.expm(-1*A*gamma) @ X"
   ]
  },
  {
   "cell_type": "markdown",
   "metadata": {},
   "source": [
    "### columns of feature scales with the relating of original features"
   ]
  },
  {
   "cell_type": "code",
   "execution_count": 34,
   "metadata": {},
   "outputs": [],
   "source": [
    "X = np.concatenate([np.ones((A.shape[0],1)),2*np.ones((A.shape[0],1))], axis=1)\n",
    "X1 = np.ones((A.shape[0],2))"
   ]
  },
  {
   "cell_type": "code",
   "execution_count": 33,
   "metadata": {},
   "outputs": [
    {
     "data": {
      "text/plain": [
       "array([[3., 6.],\n",
       "       [2., 4.],\n",
       "       [4., 8.],\n",
       "       [1., 2.],\n",
       "       [2., 4.],\n",
       "       [2., 4.]])"
      ]
     },
     "execution_count": 33,
     "metadata": {},
     "output_type": "execute_result"
    }
   ],
   "source": [
    "A @ X"
   ]
  },
  {
   "cell_type": "code",
   "execution_count": 35,
   "metadata": {},
   "outputs": [
    {
     "data": {
      "text/plain": [
       "array([[3., 3.],\n",
       "       [2., 2.],\n",
       "       [4., 4.],\n",
       "       [1., 1.],\n",
       "       [2., 2.],\n",
       "       [2., 2.]])"
      ]
     },
     "execution_count": 35,
     "metadata": {},
     "output_type": "execute_result"
    }
   ],
   "source": [
    "A @ X1"
   ]
  },
  {
   "cell_type": "code",
   "execution_count": null,
   "metadata": {},
   "outputs": [],
   "source": []
  },
  {
   "cell_type": "code",
   "execution_count": null,
   "metadata": {},
   "outputs": [],
   "source": [
    "a"
   ]
  },
  {
   "cell_type": "code",
   "execution_count": null,
   "metadata": {},
   "outputs": [],
   "source": []
  },
  {
   "cell_type": "markdown",
   "metadata": {},
   "source": [
    "### Radial basis function kernel\n",
    "### $\\exp(-\\gamma \\times D^{2})X$\n",
    "### $\\gamma = \\frac{1}{2\\sigma^{2}}$\n",
    "### $D^{2}$ : squared distance matrix"
   ]
  },
  {
   "cell_type": "code",
   "execution_count": 42,
   "metadata": {},
   "outputs": [],
   "source": [
    "gamma=0.0001"
   ]
  },
  {
   "cell_type": "code",
   "execution_count": 45,
   "metadata": {},
   "outputs": [
    {
     "data": {
      "text/plain": [
       "array([[0.99970003, 1.99940007],\n",
       "       [0.99980003, 1.99960007],\n",
       "       [0.99960004, 1.99920009],\n",
       "       [0.99990001, 1.99980003],\n",
       "       [0.99980003, 1.99960006],\n",
       "       [0.99980003, 1.99960006]])"
      ]
     },
     "execution_count": 45,
     "metadata": {},
     "output_type": "execute_result"
    }
   ],
   "source": [
    "scipy.linalg.expm(-(A**2)*gamma) @ X"
   ]
  },
  {
   "cell_type": "code",
   "execution_count": 46,
   "metadata": {},
   "outputs": [
    {
     "data": {
      "text/plain": [
       "array([[1.00030004, 2.00060007],\n",
       "       [1.00020004, 2.00040007],\n",
       "       [1.00040005, 2.00080009],\n",
       "       [1.00010002, 2.00020003],\n",
       "       [1.00020003, 2.00040006],\n",
       "       [1.00020003, 2.00040006]])"
      ]
     },
     "execution_count": 46,
     "metadata": {},
     "output_type": "execute_result"
    }
   ],
   "source": [
    "scipy.linalg.expm((A**2)*gamma) @ X"
   ]
  },
  {
   "cell_type": "code",
   "execution_count": 41,
   "metadata": {},
   "outputs": [
    {
     "data": {
      "text/plain": [
       "array([[0, 1, 1, 1, 0, 0],\n",
       "       [1, 0, 1, 0, 0, 0],\n",
       "       [1, 1, 0, 0, 1, 1],\n",
       "       [1, 0, 0, 0, 0, 0],\n",
       "       [0, 0, 1, 0, 0, 1],\n",
       "       [0, 0, 1, 0, 1, 0]], dtype=int32)"
      ]
     },
     "execution_count": 41,
     "metadata": {},
     "output_type": "execute_result"
    }
   ],
   "source": [
    "A"
   ]
  },
  {
   "cell_type": "code",
   "execution_count": 80,
   "metadata": {},
   "outputs": [
    {
     "data": {
      "image/png": "[encoded data removed]",
      "text/plain": [
       "<Figure size 432x288 with 1 Axes>"
      ]
     },
     "metadata": {},
     "output_type": "display_data"
    }
   ],
   "source": [
    "networkx.draw(G, with_labels = True)"
   ]
  },
  {
   "cell_type": "code",
   "execution_count": 48,
   "metadata": {},
   "outputs": [],
   "source": [
    "gamma=1"
   ]
  },
  {
   "cell_type": "code",
   "execution_count": 96,
   "metadata": {},
   "outputs": [
    {
     "data": {
      "text/plain": [
       "array([[0.35321558, 0.35321558],\n",
       "       [1.        , 1.        ],\n",
       "       [0.        , 0.        ],\n",
       "       [0.90064776, 0.90064776],\n",
       "       [0.79267576, 0.79267576],\n",
       "       [0.79267576, 0.79267576]])"
      ]
     },
     "execution_count": 96,
     "metadata": {},
     "output_type": "execute_result"
    }
   ],
   "source": [
    "K = scipy.linalg.expm(-(A**2)*gamma) @ X\n",
    "(K - K.min(axis=0))/(K.max(axis=0) - K.min(axis=0))"
   ]
  },
  {
   "cell_type": "code",
   "execution_count": 92,
   "metadata": {},
   "outputs": [
    {
     "data": {
      "text/plain": [
       "array([[0.35321558, 0.35321558],\n",
       "       [1.        , 1.        ],\n",
       "       [0.        , 0.        ],\n",
       "       [0.90064776, 0.90064776],\n",
       "       [0.79267576, 0.79267576],\n",
       "       [0.79267576, 0.79267576]])"
      ]
     },
     "execution_count": 92,
     "metadata": {},
     "output_type": "execute_result"
    }
   ],
   "source": [
    "K = np.linalg.inv(scipy.linalg.expm((A**2)*gamma)) @ X\n",
    "(K - K.min(axis=0))/(K.max(axis=0) - K.min(axis=0))"
   ]
  },
  {
   "cell_type": "code",
   "execution_count": 95,
   "metadata": {},
   "outputs": [
    {
     "data": {
      "text/plain": [
       "array([[0.50538736, 0.50538736],\n",
       "       [0.        , 0.        ],\n",
       "       [0.28541386, 0.28541386],\n",
       "       [1.        , 1.        ],\n",
       "       [0.58688938, 0.58688938],\n",
       "       [0.58688938, 0.58688938]])"
      ]
     },
     "execution_count": 95,
     "metadata": {},
     "output_type": "execute_result"
    }
   ],
   "source": [
    "# not right\n",
    "K = scipy.linalg.expm(np.linalg.inv(A**2)*gamma) @ X\n",
    "(K - K.min(axis=0))/(K.max(axis=0) - K.min(axis=0))"
   ]
  },
  {
   "cell_type": "markdown",
   "metadata": {},
   "source": [
    "similarity"
   ]
  },
  {
   "cell_type": "code",
   "execution_count": 87,
   "metadata": {},
   "outputs": [
    {
     "data": {
      "text/plain": [
       "array([[0.65141161, 0.65141161],\n",
       "       [0.50613027, 0.50613027],\n",
       "       [1.        , 1.        ],\n",
       "       [0.        , 0.        ],\n",
       "       [0.43229063, 0.43229063],\n",
       "       [0.43229063, 0.43229063]])"
      ]
     },
     "execution_count": 87,
     "metadata": {},
     "output_type": "execute_result"
    }
   ],
   "source": [
    "K = scipy.linalg.expm(A*gamma) @ X\n",
    "(K - K.min(axis=0))/(K.max(axis=0) - K.min(axis=0))"
   ]
  },
  {
   "cell_type": "code",
   "execution_count": null,
   "metadata": {},
   "outputs": [],
   "source": []
  },
  {
   "cell_type": "code",
   "execution_count": null,
   "metadata": {},
   "outputs": [],
   "source": []
  },
  {
   "cell_type": "code",
   "execution_count": null,
   "metadata": {},
   "outputs": [],
   "source": []
  }
 ],
 "metadata": {
  "kernelspec": {
   "display_name": "Python 3",
   "language": "python",
   "name": "python3"
  },
  "language_info": {
   "codemirror_mode": {
    "name": "ipython",
    "version": 3
   },
   "file_extension": ".py",
   "mimetype": "text/x-python",
   "name": "python",
   "nbconvert_exporter": "python",
   "pygments_lexer": "ipython3",
   "version": "3.7.4"
  }
 },
 "nbformat": 4,
 "nbformat_minor": 2
}
