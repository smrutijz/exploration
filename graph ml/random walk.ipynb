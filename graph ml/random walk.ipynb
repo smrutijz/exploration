{
 "cells": [
  {
   "cell_type": "code",
   "execution_count": 34,
   "metadata": {},
   "outputs": [],
   "source": [
    "import numpy as np\n",
    "import networkx"
   ]
  },
  {
   "cell_type": "code",
   "execution_count": 223,
   "metadata": {},
   "outputs": [],
   "source": [
    "G = networkx.DiGraph()"
   ]
  },
  {
   "cell_type": "code",
   "execution_count": 224,
   "metadata": {},
   "outputs": [],
   "source": [
    "for i in range(1,7):\n",
    "    G.add_node(i)"
   ]
  },
  {
   "cell_type": "code",
   "execution_count": 225,
   "metadata": {},
   "outputs": [
    {
     "data": {
      "text/plain": [
       "array([1, 2, 3, 4, 5, 6])"
      ]
     },
     "execution_count": 225,
     "metadata": {},
     "output_type": "execute_result"
    }
   ],
   "source": [
    "V = np.array(G.nodes)\n",
    "V"
   ]
  },
  {
   "cell_type": "code",
   "execution_count": 226,
   "metadata": {},
   "outputs": [],
   "source": [
    "G.add_edge(1,4)\n",
    "G.add_edge(4,1)\n",
    "G.add_edge(1,2)\n",
    "G.add_edge(2,1)\n",
    "G.add_edge(1,3)\n",
    "G.add_edge(3,1)\n",
    "G.add_edge(2,3)\n",
    "G.add_edge(3,2)\n",
    "G.add_edge(3,6)\n",
    "G.add_edge(6,3)\n",
    "G.add_edge(3,5)\n",
    "G.add_edge(5,3)\n",
    "G.add_edge(5,6)\n",
    "G.add_edge(6,5)"
   ]
  },
  {
   "cell_type": "code",
   "execution_count": 227,
   "metadata": {},
   "outputs": [],
   "source": [
    "A = networkx.adjacency_matrix(G).A"
   ]
  },
  {
   "cell_type": "code",
   "execution_count": 228,
   "metadata": {},
   "outputs": [
    {
     "data": {
      "text/plain": [
       "array([[3, 0, 0, 0, 0, 0],\n",
       "       [0, 2, 0, 0, 0, 0],\n",
       "       [0, 0, 4, 0, 0, 0],\n",
       "       [0, 0, 0, 1, 0, 0],\n",
       "       [0, 0, 0, 0, 2, 0],\n",
       "       [0, 0, 0, 0, 0, 2]], dtype=int32)"
      ]
     },
     "execution_count": 228,
     "metadata": {},
     "output_type": "execute_result"
    }
   ],
   "source": [
    "D = np.diag(A.sum(axis=1))\n",
    "D"
   ]
  },
  {
   "cell_type": "code",
   "execution_count": 229,
   "metadata": {},
   "outputs": [
    {
     "data": {
      "text/plain": [
       "array([[0.        , 0.33333333, 0.33333333, 0.33333333, 0.        ,\n",
       "        0.        ],\n",
       "       [0.5       , 0.        , 0.5       , 0.        , 0.        ,\n",
       "        0.        ],\n",
       "       [0.25      , 0.25      , 0.        , 0.        , 0.25      ,\n",
       "        0.25      ],\n",
       "       [1.        , 0.        , 0.        , 0.        , 0.        ,\n",
       "        0.        ],\n",
       "       [0.        , 0.        , 0.5       , 0.        , 0.        ,\n",
       "        0.5       ],\n",
       "       [0.        , 0.        , 0.5       , 0.        , 0.5       ,\n",
       "        0.        ]])"
      ]
     },
     "execution_count": 229,
     "metadata": {},
     "output_type": "execute_result"
    }
   ],
   "source": [
    "T=numpy.linalg.inv(D).dot(A)\n",
    "T"
   ]
  },
  {
   "cell_type": "code",
   "execution_count": 230,
   "metadata": {},
   "outputs": [
    {
     "data": {
      "text/plain": [
       "array([[0.16583333],\n",
       "       [0.16916667],\n",
       "       [0.17416667],\n",
       "       [0.15416667],\n",
       "       [0.1775    ],\n",
       "       [0.15916667]])"
      ]
     },
     "execution_count": 230,
     "metadata": {},
     "output_type": "execute_result"
    }
   ],
   "source": [
    "\n",
    "for i in range(1200):\n",
    "    p = np.zeros((V.shape[0],1))\n",
    "    #p[np.random.uniform(0,1,V.shape[0]).argmax()]=1\n",
    "    p[np.random.rand(V.shape[0]).argmax()]=1\n",
    "    if i == 0:\n",
    "        y = p\n",
    "    else:\n",
    "        y += p\n",
    "y/1200"
   ]
  },
  {
   "cell_type": "code",
   "execution_count": 244,
   "metadata": {},
   "outputs": [
    {
     "data": {
      "text/plain": [
       "[0, 3, 0, 1, 5, 1, 0, 4, 0, 0, 4, 3, 5, 4, 0, 5, 3, 4, 5, 1]"
      ]
     },
     "execution_count": 244,
     "metadata": {},
     "output_type": "execute_result"
    }
   ],
   "source": [
    "walk=[]\n",
    "k=20\n",
    "for i in range(k):\n",
    "    p = np.zeros((V.shape[0],1))\n",
    "    p[np.random.rand(V.shape[0]).argmax()]=1\n",
    "    p = T.dot(p)\n",
    "    walk.append(p.argmax())\n",
    "walk"
   ]
  },
  {
   "cell_type": "code",
   "execution_count": 143,
   "metadata": {},
   "outputs": [],
   "source": [
    "import networkx\n",
    "import numpy\n",
    "# let's generate a graph G\n",
    "G = networkx.gnp_random_graph(5, 0.5)\n",
    "# let networkx return the adjacency matrix A\n",
    "A = networkx.adj_matrix(G)\n",
    "A = A.todense()\n",
    "A = numpy.array(A, dtype = numpy.float64)\n",
    "# let's evaluate the degree matrix D\n",
    "D = numpy.diag(numpy.sum(A, axis=0))\n",
    "# ...and the transition matrix T\n",
    "T = numpy.dot(numpy.linalg.inv(D),A)\n",
    "# let's define the random walk length, say 10\n",
    "walkLength = 10\n",
    "# define the starting node, say the 0-th\n",
    "p = numpy.array([1, 0, 0, 0, 0]).reshape(-1,1)\n",
    "visited = list()\n",
    "for k in range(walkLength):\n",
    "    # evaluate the next state vector\n",
    "    p = numpy.dot(T,p)\n",
    "    # choose the node with higher probability as the visited node\n",
    "    visited.append(numpy.argmax(p))"
   ]
  },
  {
   "cell_type": "code",
   "execution_count": 48,
   "metadata": {},
   "outputs": [
    {
     "data": {
      "text/plain": [
       "[1, 0, 1, 0, 1, 0, 1, 0, 1, 0]"
      ]
     },
     "execution_count": 48,
     "metadata": {},
     "output_type": "execute_result"
    }
   ],
   "source": [
    "visited"
   ]
  },
  {
   "cell_type": "code",
   "execution_count": 33,
   "metadata": {},
   "outputs": [
    {
     "name": "stderr",
     "output_type": "stream",
     "text": [
      "C:\\Users\\smrut\\Anaconda3\\lib\\site-packages\\ipykernel_launcher.py:1: RuntimeWarning: divide by zero encountered in true_divide\n",
      "  \"\"\"Entry point for launching an IPython kernel.\n"
     ]
    },
    {
     "data": {
      "text/plain": [
       "array([[  0., -inf, -inf, -inf, -inf],\n",
       "       [-inf,   0., -inf, -inf, -inf],\n",
       "       [-inf, -inf,   0., -inf, -inf],\n",
       "       [-inf, -inf, -inf,   0., -inf],\n",
       "       [-inf, -inf, -inf, -inf,   0.]])"
      ]
     },
     "execution_count": 33,
     "metadata": {},
     "output_type": "execute_result"
    }
   ],
   "source": [
    "numpy.linalg.inv(D)-1/D"
   ]
  },
  {
   "cell_type": "code",
   "execution_count": null,
   "metadata": {},
   "outputs": [],
   "source": []
  }
 ],
 "metadata": {
  "kernelspec": {
   "display_name": "Python 3",
   "language": "python",
   "name": "python3"
  },
  "language_info": {
   "codemirror_mode": {
    "name": "ipython",
    "version": 3
   },
   "file_extension": ".py",
   "mimetype": "text/x-python",
   "name": "python",
   "nbconvert_exporter": "python",
   "pygments_lexer": "ipython3",
   "version": "3.7.4"
  }
 },
 "nbformat": 4,
 "nbformat_minor": 2
}
