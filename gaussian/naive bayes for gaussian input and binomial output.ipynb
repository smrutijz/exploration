{
 "cells": [
  {
   "cell_type": "code",
   "execution_count": 1,
   "metadata": {},
   "outputs": [],
   "source": [
    "import numpy as np\n",
    "\n",
    "import scipy.stats\n",
    "from scipy import stats\n",
    "\n",
    "from sklearn import datasets\n",
    "from sklearn.preprocessing import MinMaxScaler\n",
    "from sklearn.metrics import confusion_matrix\n",
    "\n",
    "import matplotlib.pyplot as plt"
   ]
  },
  {
   "cell_type": "code",
   "execution_count": 2,
   "metadata": {},
   "outputs": [],
   "source": [
    "def onehotencoding(a):\n",
    "    a = iris.target\n",
    "    b = np.zeros((a.size, a.max()+1))\n",
    "    b[np.arange(a.size),a] = 1\n",
    "    return b\n",
    "def calculate_prior(y):\n",
    "    return np.array([(y==0).sum(axis=0), (y==1).sum(axis=0)])/y.size\n",
    "def calculate_mean(x, y):\n",
    "    m = np.zeros((2, x.shape[1]))\n",
    "    m[0] = x[y==0].mean(axis=0)\n",
    "    m[1] = x[y==1].mean(axis=0)\n",
    "    return m\n",
    "def calculate_var(x, y):\n",
    "    v = np.zeros((2, x.shape[1]))\n",
    "    v[0] = x[y==0].var(axis=0)\n",
    "    v[1] = x[y==1].var(axis=0)\n",
    "    return v\n",
    "def calculate_posterior(mean, var, x):\n",
    "    n0 = stats.norm(mean[0], np.sqrt(var[0]))\n",
    "    n1 = stats.norm(mean[1], np.sqrt(var[1]))\n",
    "    a = n0.pdf(x).prod(axis=1)*prior[0]\n",
    "    b = n1.pdf(x).prod(axis=1)*prior[0]\n",
    "    return np.array([a/(a+b), b/(a+b)]).T\n",
    "def validation(y_true, y_pred):\n",
    "    cnfx = confusion_matrix(y_true, y_pred)\n",
    "    [[tn, fp], [fn, tp]] = cnfx\n",
    "    accuracy = (tn + tp)/(tn + fp + fn + tp)\n",
    "    no, yes = cnfx.sum(axis=1)\n",
    "    negative, positive = cnfx.sum(axis=0)\n",
    "    recall = tp/yes\n",
    "    precession = tp/positive\n",
    "    fscore = lambda p, r, b: ((1 + b**2) * (p*r))/ (b**2 * p + r)\n",
    "    f1 = fscore(precession, recall, 1)\n",
    "    print(cnfx)\n",
    "    print(\"accuracy\", accuracy)\n",
    "    print(\"recall\", recall)\n",
    "    print(\"precession\", precession)\n",
    "    print(\"f1 score\", f1)"
   ]
  },
  {
   "cell_type": "code",
   "execution_count": 3,
   "metadata": {},
   "outputs": [],
   "source": [
    "iris = datasets.load_iris()\n",
    "cols = iris.feature_names\n",
    "X = iris.data\n",
    "label = iris.target_names\n",
    "Y = onehotencoding(iris.target)[:, 0]"
   ]
  },
  {
   "cell_type": "code",
   "execution_count": 4,
   "metadata": {},
   "outputs": [],
   "source": [
    "TRAIN_TEST_RATIO = 0.8\n",
    "M = X.shape[0]\n",
    "M_TRAIN = int(np.ceil(0.8*M))"
   ]
  },
  {
   "cell_type": "code",
   "execution_count": 5,
   "metadata": {},
   "outputs": [],
   "source": [
    "scaler = MinMaxScaler()\n",
    "scaler = scaler.fit(X)\n",
    "X = scaler.transform(X)\n",
    "\n",
    "indices = np.random.permutation(X.shape[0])\n",
    "train_idx, test_idx = indices[:M_TRAIN], indices[M_TRAIN:]\n",
    "X_train, X_test = X[train_idx, :], X[test_idx, :]\n",
    "Y_train, Y_test = Y[train_idx], Y[test_idx]\n",
    "\n",
    "x_train, x_test = X_train, X_test\n",
    "y_train, y_test = Y_train, Y_test"
   ]
  },
  {
   "cell_type": "code",
   "execution_count": 6,
   "metadata": {},
   "outputs": [],
   "source": [
    "prior = calculate_prior(y_train)\n",
    "mean = calculate_mean(x_train, y_train)\n",
    "var = calculate_var(x_train, y_train)\n",
    "train_post_prob = calculate_posterior(mean, var, x_train)\n",
    "test_post_prob = calculate_posterior(mean, var, x_test)"
   ]
  },
  {
   "cell_type": "code",
   "execution_count": 8,
   "metadata": {},
   "outputs": [
    {
     "name": "stdout",
     "output_type": "stream",
     "text": [
      "[[81  0]\n",
      " [ 0 39]]\n",
      "accuracy 1.0\n",
      "recall 1.0\n",
      "precession 1.0\n",
      "f1 score 1.0\n"
     ]
    }
   ],
   "source": [
    "validation(y_train, train_post_prob.argmax(axis=1))"
   ]
  },
  {
   "cell_type": "code",
   "execution_count": 9,
   "metadata": {},
   "outputs": [
    {
     "name": "stdout",
     "output_type": "stream",
     "text": [
      "[[19  0]\n",
      " [ 0 11]]\n",
      "accuracy 1.0\n",
      "recall 1.0\n",
      "precession 1.0\n",
      "f1 score 1.0\n"
     ]
    }
   ],
   "source": [
    "validation(y_test, test_post_prob.argmax(axis=1))"
   ]
  }
 ],
 "metadata": {
  "kernelspec": {
   "display_name": "Python 3",
   "language": "python",
   "name": "python3"
  },
  "language_info": {
   "codemirror_mode": {
    "name": "ipython",
    "version": 3
   },
   "file_extension": ".py",
   "mimetype": "text/x-python",
   "name": "python",
   "nbconvert_exporter": "python",
   "pygments_lexer": "ipython3",
   "version": "3.7.4"
  }
 },
 "nbformat": 4,
 "nbformat_minor": 2
}
