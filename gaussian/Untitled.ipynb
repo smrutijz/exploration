{
 "cells": [
  {
   "cell_type": "code",
   "execution_count": 1,
   "metadata": {},
   "outputs": [],
   "source": [
    "import numpy as np\n",
    "\n",
    "from scipy import stats\n",
    "\n",
    "from sklearn.preprocessing import MinMaxScaler\n",
    "from sklearn.metrics import confusion_matrix\n",
    "\n",
    "import matplotlib.pyplot as plt"
   ]
  },
  {
   "cell_type": "code",
   "execution_count": 2,
   "metadata": {},
   "outputs": [],
   "source": [
    "X = np.sort(np.random.rand(5,2)*20+5)\n",
    "Y = X[:,0]*2 + X[:,0]*3"
   ]
  },
  {
   "cell_type": "code",
   "execution_count": 3,
   "metadata": {},
   "outputs": [],
   "source": [
    "TRAIN_TEST_RATIO = 0.8\n",
    "M = X.shape[0]\n",
    "M_train = int(np.ceil(0.8*M))"
   ]
  },
  {
   "cell_type": "code",
   "execution_count": 4,
   "metadata": {},
   "outputs": [],
   "source": [
    "scaler = MinMaxScaler()\n",
    "scaler = scaler.fit(X)\n",
    "#X = scaler.transform(X)\n",
    "\n",
    "indices = np.random.permutation(X.shape[0])\n",
    "train_idx, test_idx = indices[:M_train], indices[M_train:]\n",
    "x_train, x_test = X[train_idx, :], X[test_idx, :]\n",
    "y_train, y_test = Y[train_idx], Y[test_idx]"
   ]
  },
  {
   "cell_type": "code",
   "execution_count": 5,
   "metadata": {},
   "outputs": [],
   "source": [
    "def calculate_prior(y):\n",
    "    return np.array([(y==0).sum(axis=0), (y==1).sum(axis=0)])/y.size\n",
    "def calculate_theta(x):\n",
    "    m, n = x.shape\n",
    "    mean = np.empty((0, n))\n",
    "    var = np.empty((0, n))\n",
    "    for i in range(m):\n",
    "        mean = np.append(mean, x[:i+1].mean(axis=0).reshape(1,-1), axis=0)\n",
    "        var = np.append(var, x[:i+1].var(axis=0).reshape(1,-1), axis=0)\n",
    "    return mean, var\n",
    "def calculate_posterior(mean, var, x):\n",
    "    m = x.shape[0]\n",
    "    m_train = mean.shape[0]\n",
    "    prior = np.arange(1, m_train+1)/m_train\n",
    "    posterior = np.empty((0, m))\n",
    "    for i in range(m_train):\n",
    "        post = (stats.norm(mean[i], np.sqrt(var[i])).pdf(x).prod(axis=1)*prior[i]).reshape(1,-1)\n",
    "        posterior = np.append(posterior, post, axis=0)\n",
    "    posterior = posterior/np.nansum(posterior, axis=0)\n",
    "    return posterior\n",
    "def mean_squared_error(y, y_train, posterior):\n",
    "    return np.round(np.square(np.nansum(posterior*y_train, axis=0)-y).mean(axis=0), 2)"
   ]
  },
  {
   "cell_type": "code",
   "execution_count": 6,
   "metadata": {},
   "outputs": [
    {
     "data": {
      "text/plain": [
       "array([1., 1., 1., 1.])"
      ]
     },
     "execution_count": 6,
     "metadata": {},
     "output_type": "execute_result"
    }
   ],
   "source": [
    "a = np.array([[1,2,3,4],[5,6,7,8],[9,10,11,12]])\n",
    "a = a/np.nansum(a, axis=0)\n",
    "np.nansum(a, axis=0)"
   ]
  },
  {
   "cell_type": "code",
   "execution_count": 7,
   "metadata": {},
   "outputs": [],
   "source": [
    "mean, var = calculate_theta(x_train)"
   ]
  },
  {
   "cell_type": "code",
   "execution_count": 8,
   "metadata": {},
   "outputs": [
    {
     "name": "stderr",
     "output_type": "stream",
     "text": [
      "C:\\Users\\smrut\\Anaconda3\\lib\\site-packages\\scipy\\stats\\_distn_infrastructure.py:1740: RuntimeWarning: divide by zero encountered in true_divide\n",
      "  x = np.asarray((x - loc)/scale, dtype=dtyp)\n",
      "C:\\Users\\smrut\\Anaconda3\\lib\\site-packages\\scipy\\stats\\_distn_infrastructure.py:1740: RuntimeWarning: invalid value encountered in true_divide\n",
      "  x = np.asarray((x - loc)/scale, dtype=dtyp)\n",
      "C:\\Users\\smrut\\Anaconda3\\lib\\site-packages\\scipy\\stats\\_distn_infrastructure.py:899: RuntimeWarning: invalid value encountered in greater_equal\n",
      "  return (a <= x) & (x <= b)\n",
      "C:\\Users\\smrut\\Anaconda3\\lib\\site-packages\\scipy\\stats\\_distn_infrastructure.py:899: RuntimeWarning: invalid value encountered in less_equal\n",
      "  return (a <= x) & (x <= b)\n"
     ]
    },
    {
     "data": {
      "text/plain": [
       "0.0"
      ]
     },
     "execution_count": 8,
     "metadata": {},
     "output_type": "execute_result"
    }
   ],
   "source": [
    "posterior = calculate_posterior(mean, var, x_train)\n",
    "mean_squared_error(y_train, y_train, posterior)"
   ]
  },
  {
   "cell_type": "code",
   "execution_count": 9,
   "metadata": {},
   "outputs": [
    {
     "data": {
      "text/plain": [
       "array([[           nan,            nan,            nan,            nan],\n",
       "       [6.47777310e-01, 5.59891215e-01, 1.05633859e-44, 6.47432712e-02],\n",
       "       [1.38078382e-01, 1.85480907e-01, 5.07780593e-01, 3.35909906e-01],\n",
       "       [2.14144308e-01, 2.54627878e-01, 4.92219407e-01, 5.99346823e-01]])"
      ]
     },
     "execution_count": 9,
     "metadata": {},
     "output_type": "execute_result"
    }
   ],
   "source": [
    "posterior"
   ]
  },
  {
   "cell_type": "code",
   "execution_count": 10,
   "metadata": {},
   "outputs": [
    {
     "data": {
      "text/plain": [
       "array([1., 1., 1., 1.])"
      ]
     },
     "execution_count": 10,
     "metadata": {},
     "output_type": "execute_result"
    }
   ],
   "source": [
    "np.nansum(posterior, axis=0)"
   ]
  },
  {
   "cell_type": "code",
   "execution_count": 11,
   "metadata": {},
   "outputs": [
    {
     "data": {
      "text/plain": [
       "array([39.93157379, 72.80335722, 69.14664151, 54.95320343])"
      ]
     },
     "execution_count": 11,
     "metadata": {},
     "output_type": "execute_result"
    }
   ],
   "source": [
    "y_train"
   ]
  },
  {
   "cell_type": "code",
   "execution_count": 12,
   "metadata": {},
   "outputs": [
    {
     "data": {
      "text/plain": [
       "array([2.58667675e+01, 4.07619601e+01, 7.30422656e-43, 3.55785015e+00])"
      ]
     },
     "execution_count": 12,
     "metadata": {},
     "output_type": "execute_result"
    }
   ],
   "source": [
    "posterior[1,:] * y_train"
   ]
  },
  {
   "cell_type": "code",
   "execution_count": 13,
   "metadata": {},
   "outputs": [
    {
     "data": {
      "text/plain": [
       "array([[           nan,            nan,            nan,            nan],\n",
       "       [2.58667675e+01, 4.07619601e+01, 7.30422656e-43, 3.55785015e+00],\n",
       "       [5.51368708e+00, 1.35036327e+01, 3.51113226e+01, 1.84593254e+01],\n",
       "       [8.55111924e+00, 1.85377644e+01, 3.40353189e+01, 3.29360279e+01]])"
      ]
     },
     "execution_count": 13,
     "metadata": {},
     "output_type": "execute_result"
    }
   ],
   "source": [
    "posterior*y_train"
   ]
  },
  {
   "cell_type": "code",
   "execution_count": 14,
   "metadata": {},
   "outputs": [
    {
     "data": {
      "text/plain": [
       "372.36"
      ]
     },
     "execution_count": 14,
     "metadata": {},
     "output_type": "execute_result"
    }
   ],
   "source": [
    "posterior = calculate_posterior(mean, var, x_test)\n",
    "mean_squared_error(y_test, y_train, posterior)"
   ]
  },
  {
   "cell_type": "code",
   "execution_count": 17,
   "metadata": {},
   "outputs": [
    {
     "data": {
      "text/plain": [
       "array([44.92446419])"
      ]
     },
     "execution_count": 17,
     "metadata": {},
     "output_type": "execute_result"
    }
   ],
   "source": [
    "y_test"
   ]
  },
  {
   "cell_type": "code",
   "execution_count": 16,
   "metadata": {},
   "outputs": [
    {
     "data": {
      "text/plain": [
       "array([39.93157379, 72.80335722, 69.14664151, 54.95320343])"
      ]
     },
     "execution_count": 16,
     "metadata": {},
     "output_type": "execute_result"
    }
   ],
   "source": [
    "np.nansum(posterior*y_train, axis=0)"
   ]
  },
  {
   "cell_type": "code",
   "execution_count": 38,
   "metadata": {},
   "outputs": [
    {
     "data": {
      "text/plain": [
       "60.31428368307324"
      ]
     },
     "execution_count": 38,
     "metadata": {},
     "output_type": "execute_result"
    }
   ],
   "source": [
    "(posterior*y_train.reshape(-1,1))[1:,].sum()"
   ]
  },
  {
   "cell_type": "code",
   "execution_count": null,
   "metadata": {},
   "outputs": [],
   "source": [
    "np.nansum(posterior*y_train.reshape(-1, 1), axis=0)"
   ]
  }
 ],
 "metadata": {
  "kernelspec": {
   "display_name": "Python 3",
   "language": "python",
   "name": "python3"
  },
  "language_info": {
   "codemirror_mode": {
    "name": "ipython",
    "version": 3
   },
   "file_extension": ".py",
   "mimetype": "text/x-python",
   "name": "python",
   "nbconvert_exporter": "python",
   "pygments_lexer": "ipython3",
   "version": "3.7.4"
  }
 },
 "nbformat": 4,
 "nbformat_minor": 2
}
