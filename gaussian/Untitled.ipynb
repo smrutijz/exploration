{
 "cells": [
  {
   "cell_type": "code",
   "execution_count": 22,
   "metadata": {},
   "outputs": [],
   "source": [
    "import matplotlib as mpl\n",
    "import matplotlib.pyplot as plt\n",
    "import scipy.stats\n",
    "import numpy as np\n",
    "\n",
    "from sklearn import datasets\n",
    "from sklearn.mixture import GaussianMixture\n",
    "from sklearn.model_selection import StratifiedKFold"
   ]
  },
  {
   "cell_type": "code",
   "execution_count": 2,
   "metadata": {},
   "outputs": [],
   "source": [
    "iris = datasets.load_iris()"
   ]
  },
  {
   "cell_type": "code",
   "execution_count": 7,
   "metadata": {},
   "outputs": [],
   "source": [
    "cols = iris.feature_names\n",
    "data = iris.data"
   ]
  },
  {
   "cell_type": "code",
   "execution_count": 9,
   "metadata": {},
   "outputs": [
    {
     "data": {
      "text/plain": [
       "(150, 4)"
      ]
     },
     "execution_count": 9,
     "metadata": {},
     "output_type": "execute_result"
    }
   ],
   "source": [
    "data.shape"
   ]
  },
  {
   "cell_type": "markdown",
   "metadata": {},
   "source": [
    "#### to implement a simple gaussian mixture model, we are taking first features"
   ]
  },
  {
   "cell_type": "code",
   "execution_count": 36,
   "metadata": {},
   "outputs": [
    {
     "data": {
      "image/png": "[encoded data removed]",
      "text/plain": [
       "<Figure size 432x288 with 1 Axes>"
      ]
     },
     "metadata": {
      "needs_background": "light"
     },
     "output_type": "display_data"
    }
   ],
   "source": [
    "x = data[:, 2]\n",
    "m = x.shape[0]\n",
    "plt.scatter(x, np.zeros(m))\n",
    "plt.show()"
   ]
  },
  {
   "cell_type": "code",
   "execution_count": 37,
   "metadata": {},
   "outputs": [
    {
     "data": {
      "text/plain": [
       "0.9750021048517795"
      ]
     },
     "execution_count": 37,
     "metadata": {},
     "output_type": "execute_result"
    }
   ],
   "source": [
    "print(\"X shape\", X.shape)scipy.stats.norm(0, 1).cdf(1.96)"
   ]
  },
  {
   "cell_type": "code",
   "execution_count": 157,
   "metadata": {},
   "outputs": [],
   "source": [
    "X = x.reshape(-1, 1)\n",
    "m, n = X.shape\n",
    "D = np.ones((k, n))\n",
    "#W = np.random.random((m, k))\n",
    "W = np.ones((m, k))\n",
    "\n",
    "WT = W/W.sum(axis=0)\n",
    "MU = WT.T.dot(X)\n",
    "RES = X.dot(D.T)-MU.T\n",
    "WT_RES = WT * RES\n",
    "S2 = ((WT_RES**2).sum(axis=0)).reshape(-1, n)\n",
    "\n",
    "\n"
   ]
  },
  {
   "cell_type": "code",
   "execution_count": 161,
   "metadata": {},
   "outputs": [
    {
     "data": {
      "text/plain": [
       "array([[5.560164e+00, 5.560164e+00],\n",
       "       [5.560164e+00, 5.560164e+00],\n",
       "       [6.041764e+00, 6.041764e+00],\n",
       "       [5.098564e+00, 5.098564e+00],\n",
       "       [5.560164e+00, 5.560164e+00],\n",
       "       [4.235364e+00, 4.235364e+00],\n",
       "       [5.560164e+00, 5.560164e+00],\n",
       "       [5.098564e+00, 5.098564e+00],\n",
       "       [5.560164e+00, 5.560164e+00],\n",
       "       [5.098564e+00, 5.098564e+00],\n",
       "       [5.098564e+00, 5.098564e+00],\n",
       "       [4.656964e+00, 4.656964e+00],\n",
       "       [5.560164e+00, 5.560164e+00],\n",
       "       [7.064964e+00, 7.064964e+00],\n",
       "       [6.543364e+00, 6.543364e+00],\n",
       "       [5.098564e+00, 5.098564e+00],\n",
       "       [6.041764e+00, 6.041764e+00],\n",
       "       [5.560164e+00, 5.560164e+00],\n",
       "       [4.235364e+00, 4.235364e+00],\n",
       "       [5.098564e+00, 5.098564e+00],\n",
       "       [4.235364e+00, 4.235364e+00],\n",
       "       [5.098564e+00, 5.098564e+00],\n",
       "       [7.606564e+00, 7.606564e+00],\n",
       "       [4.235364e+00, 4.235364e+00],\n",
       "       [3.452164e+00, 3.452164e+00],\n",
       "       [4.656964e+00, 4.656964e+00],\n",
       "       [4.656964e+00, 4.656964e+00],\n",
       "       [5.098564e+00, 5.098564e+00],\n",
       "       [5.560164e+00, 5.560164e+00],\n",
       "       [4.656964e+00, 4.656964e+00],\n",
       "       [4.656964e+00, 4.656964e+00],\n",
       "       [5.098564e+00, 5.098564e+00],\n",
       "       [5.098564e+00, 5.098564e+00],\n",
       "       [5.560164e+00, 5.560164e+00],\n",
       "       [5.098564e+00, 5.098564e+00],\n",
       "       [6.543364e+00, 6.543364e+00],\n",
       "       [6.041764e+00, 6.041764e+00],\n",
       "       [5.560164e+00, 5.560164e+00],\n",
       "       [6.041764e+00, 6.041764e+00],\n",
       "       [5.098564e+00, 5.098564e+00],\n",
       "       [6.041764e+00, 6.041764e+00],\n",
       "       [6.041764e+00, 6.041764e+00],\n",
       "       [6.041764e+00, 6.041764e+00],\n",
       "       [4.656964e+00, 4.656964e+00],\n",
       "       [3.452164e+00, 3.452164e+00],\n",
       "       [5.560164e+00, 5.560164e+00],\n",
       "       [4.656964e+00, 4.656964e+00],\n",
       "       [5.560164e+00, 5.560164e+00],\n",
       "       [5.098564e+00, 5.098564e+00],\n",
       "       [5.560164e+00, 5.560164e+00],\n",
       "       [8.873640e-01, 8.873640e-01],\n",
       "       [5.505640e-01, 5.505640e-01],\n",
       "       [1.304164e+00, 1.304164e+00],\n",
       "       [5.856400e-02, 5.856400e-02],\n",
       "       [7.089640e-01, 7.089640e-01],\n",
       "       [5.505640e-01, 5.505640e-01],\n",
       "       [8.873640e-01, 8.873640e-01],\n",
       "       [2.097640e-01, 2.097640e-01],\n",
       "       [7.089640e-01, 7.089640e-01],\n",
       "       [2.016400e-02, 2.016400e-02],\n",
       "       [6.656400e-02, 6.656400e-02],\n",
       "       [1.953640e-01, 1.953640e-01],\n",
       "       [5.856400e-02, 5.856400e-02],\n",
       "       [8.873640e-01, 8.873640e-01],\n",
       "       [2.496400e-02, 2.496400e-02],\n",
       "       [4.121640e-01, 4.121640e-01],\n",
       "       [5.505640e-01, 5.505640e-01],\n",
       "       [1.169640e-01, 1.169640e-01],\n",
       "       [5.505640e-01, 5.505640e-01],\n",
       "       [2.016400e-02, 2.016400e-02],\n",
       "       [1.085764e+00, 1.085764e+00],\n",
       "       [5.856400e-02, 5.856400e-02],\n",
       "       [1.304164e+00, 1.304164e+00],\n",
       "       [8.873640e-01, 8.873640e-01],\n",
       "       [2.937640e-01, 2.937640e-01],\n",
       "       [4.121640e-01, 4.121640e-01],\n",
       "       [1.085764e+00, 1.085764e+00],\n",
       "       [1.542564e+00, 1.542564e+00],\n",
       "       [5.505640e-01, 5.505640e-01],\n",
       "       [6.656400e-02, 6.656400e-02],\n",
       "       [1.764000e-03, 1.764000e-03],\n",
       "       [3.364000e-03, 3.364000e-03],\n",
       "       [2.016400e-02, 2.016400e-02],\n",
       "       [1.800964e+00, 1.800964e+00],\n",
       "       [5.505640e-01, 5.505640e-01],\n",
       "       [5.505640e-01, 5.505640e-01],\n",
       "       [8.873640e-01, 8.873640e-01],\n",
       "       [4.121640e-01, 4.121640e-01],\n",
       "       [1.169640e-01, 1.169640e-01],\n",
       "       [5.856400e-02, 5.856400e-02],\n",
       "       [4.121640e-01, 4.121640e-01],\n",
       "       [7.089640e-01, 7.089640e-01],\n",
       "       [5.856400e-02, 5.856400e-02],\n",
       "       [2.097640e-01, 2.097640e-01],\n",
       "       [1.953640e-01, 1.953640e-01],\n",
       "       [1.953640e-01, 1.953640e-01],\n",
       "       [1.953640e-01, 1.953640e-01],\n",
       "       [2.937640e-01, 2.937640e-01],\n",
       "       [5.745640e-01, 5.745640e-01],\n",
       "       [1.169640e-01, 1.169640e-01],\n",
       "       [5.026564e+00, 5.026564e+00],\n",
       "       [1.800964e+00, 1.800964e+00],\n",
       "       [4.588164e+00, 4.588164e+00],\n",
       "       [3.392964e+00, 3.392964e+00],\n",
       "       [4.169764e+00, 4.169764e+00],\n",
       "       [8.076964e+00, 8.076964e+00],\n",
       "       [5.505640e-01, 5.505640e-01],\n",
       "       [6.461764e+00, 6.461764e+00],\n",
       "       [4.169764e+00, 4.169764e+00],\n",
       "       [5.484964e+00, 5.484964e+00],\n",
       "       [1.800964e+00, 1.800964e+00],\n",
       "       [2.377764e+00, 2.377764e+00],\n",
       "       [3.034564e+00, 3.034564e+00],\n",
       "       [1.542564e+00, 1.542564e+00],\n",
       "       [1.800964e+00, 1.800964e+00],\n",
       "       [2.377764e+00, 2.377764e+00],\n",
       "       [3.034564e+00, 3.034564e+00],\n",
       "       [8.655364e+00, 8.655364e+00],\n",
       "       [9.872164e+00, 9.872164e+00],\n",
       "       [1.542564e+00, 1.542564e+00],\n",
       "       [3.771364e+00, 3.771364e+00],\n",
       "       [1.304164e+00, 1.304164e+00],\n",
       "       [8.655364e+00, 8.655364e+00],\n",
       "       [1.304164e+00, 1.304164e+00],\n",
       "       [3.771364e+00, 3.771364e+00],\n",
       "       [5.026564e+00, 5.026564e+00],\n",
       "       [1.085764e+00, 1.085764e+00],\n",
       "       [1.304164e+00, 1.304164e+00],\n",
       "       [3.392964e+00, 3.392964e+00],\n",
       "       [4.169764e+00, 4.169764e+00],\n",
       "       [5.484964e+00, 5.484964e+00],\n",
       "       [6.980164e+00, 6.980164e+00],\n",
       "       [3.392964e+00, 3.392964e+00],\n",
       "       [1.800964e+00, 1.800964e+00],\n",
       "       [3.392964e+00, 3.392964e+00],\n",
       "       [5.484964e+00, 5.484964e+00],\n",
       "       [3.392964e+00, 3.392964e+00],\n",
       "       [3.034564e+00, 3.034564e+00],\n",
       "       [1.085764e+00, 1.085764e+00],\n",
       "       [2.696164e+00, 2.696164e+00],\n",
       "       [3.392964e+00, 3.392964e+00],\n",
       "       [1.800964e+00, 1.800964e+00],\n",
       "       [1.800964e+00, 1.800964e+00],\n",
       "       [4.588164e+00, 4.588164e+00],\n",
       "       [3.771364e+00, 3.771364e+00],\n",
       "       [2.079364e+00, 2.079364e+00],\n",
       "       [1.542564e+00, 1.542564e+00],\n",
       "       [2.079364e+00, 2.079364e+00],\n",
       "       [2.696164e+00, 2.696164e+00],\n",
       "       [1.800964e+00, 1.800964e+00]])"
      ]
     },
     "execution_count": 161,
     "metadata": {},
     "output_type": "execute_result"
    }
   ],
   "source": [
    "RES**2"
   ]
  },
  {
   "cell_type": "code",
   "execution_count": 158,
   "metadata": {},
   "outputs": [
    {
     "name": "stdout",
     "output_type": "stream",
     "text": [
      "k, m, n =  2 150 1\n",
      "X shape (m, n) (150, 1)\n",
      "MU shape (k, n) (2, 1)\n",
      "W shape (m, k) (150, 2)\n"
     ]
    }
   ],
   "source": [
    "print(\"k, m, n = \", k, m, n)\n",
    "print(\"X shape (m, n)\", X.shape)\n",
    "print(\"MU shape (k, n)\", mu.shape)\n",
    "print(\"W shape (m, k)\", W.shape)"
   ]
  },
  {
   "cell_type": "code",
   "execution_count": 160,
   "metadata": {},
   "outputs": [
    {
     "data": {
      "text/plain": [
       "array([[0.],\n",
       "       [0.]])"
      ]
     },
     "execution_count": 160,
     "metadata": {},
     "output_type": "execute_result"
    }
   ],
   "source": [
    "scipy.stats.norm(MU, S2).pdf(0)"
   ]
  },
  {
   "cell_type": "code",
   "execution_count": 147,
   "metadata": {},
   "outputs": [
    {
     "data": {
      "text/plain": [
       "array([[1.86740094],\n",
       "       [1.9463804 ]])"
      ]
     },
     "execution_count": 147,
     "metadata": {},
     "output_type": "execute_result"
    }
   ],
   "source": [
    "((W_RES**2).sum(axis=0) / W.sum(axis=0)).reshape(-1, n)"
   ]
  },
  {
   "cell_type": "code",
   "execution_count": null,
   "metadata": {},
   "outputs": [],
   "source": [
    "class gmm:\n",
    "    def __init__(self, k):\n",
    "        self.k = k\n",
    "    def expection(self):\n",
    "        scipy.stats.norm(0, 1).pdf(0)"
   ]
  }
 ],
 "metadata": {
  "kernelspec": {
   "display_name": "Python 3",
   "language": "python",
   "name": "python3"
  },
  "language_info": {
   "codemirror_mode": {
    "name": "ipython",
    "version": 3
   },
   "file_extension": ".py",
   "mimetype": "text/x-python",
   "name": "python",
   "nbconvert_exporter": "python",
   "pygments_lexer": "ipython3",
   "version": "3.7.4"
  }
 },
 "nbformat": 4,
 "nbformat_minor": 2
}
