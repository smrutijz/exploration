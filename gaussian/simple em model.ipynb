{
 "cells": [
  {
   "cell_type": "code",
   "execution_count": 1,
   "metadata": {},
   "outputs": [],
   "source": [
    "import matplotlib as mpl\n",
    "import matplotlib.pyplot as plt\n",
    "import scipy.stats\n",
    "import numpy as np\n",
    "\n",
    "from sklearn import datasets"
   ]
  },
  {
   "cell_type": "code",
   "execution_count": 2,
   "metadata": {},
   "outputs": [],
   "source": [
    "iris = datasets.load_iris()\n",
    "cols = iris.feature_names\n",
    "data = iris.data"
   ]
  },
  {
   "cell_type": "code",
   "execution_count": 3,
   "metadata": {},
   "outputs": [
    {
     "data": {
      "image/png": "[encoded data removed]",
      "text/plain": [
       "<Figure size 432x288 with 1 Axes>"
      ]
     },
     "metadata": {
      "needs_background": "light"
     },
     "output_type": "display_data"
    }
   ],
   "source": [
    "plt.hist(data[:,2])\n",
    "plt.show()"
   ]
  },
  {
   "cell_type": "code",
   "execution_count": 4,
   "metadata": {},
   "outputs": [],
   "source": [
    "from numpy import sqrt, pi, exp, log\n",
    "class normal:\n",
    "    def __init__(self, mu, sigma, x):\n",
    "        self.mu = mu\n",
    "        self.sigma = sigma\n",
    "        self.x = x\n",
    "    def pdf(self):\n",
    "        e = (self.x - self.mu)**2/(2 * self.sigma**2)\n",
    "        return scipy.stats.norm(self.mu, self.sigma).pdf(self.x)\n",
    "        #return (self.sigma * sqrt(2*pi))**-1 * exp(-e)"
   ]
  },
  {
   "cell_type": "code",
   "execution_count": 5,
   "metadata": {},
   "outputs": [
    {
     "data": {
      "image/png": "[encoded data removed]",
      "text/plain": [
       "<Figure size 432x288 with 1 Axes>"
      ]
     },
     "metadata": {
      "needs_background": "light"
     },
     "output_type": "display_data"
    }
   ],
   "source": [
    "#data[:, 2]\n",
    "dummy_data = np.arange(-5,5,0.05)\n",
    "n1 = normal(mu=0, sigma=1, x=dummy_data)\n",
    "plt.plot(dummy_data, n1.pdf());"
   ]
  },
  {
   "cell_type": "code",
   "execution_count": 6,
   "metadata": {},
   "outputs": [],
   "source": [
    "class gmm():\n",
    "    def __init__(self, k, data):\n",
    "        self.m = data.shape[0]\n",
    "        self.data = data.reshape(1, -1)\n",
    "        self.k = k\n",
    "        self.mu =  np.random.uniform(low=0, high=10, size=(k, 1))\n",
    "        self.sigma = np.random.uniform(low=0, high=10, size=(k, 1))\n",
    "        self.prob = np.empty((k, self.m), np.float64)\n",
    "        self.post_prob = np.empty((k, self.m), np.float64)\n",
    "        self.prior = np.repeat(1/k, k).reshape(k, 1)\n",
    "\n",
    "    def probility(self, mu, sigma):\n",
    "        prob = np.empty((0, self.m), np.float64)\n",
    "        for i in range(self.k):\n",
    "            p = scipy.stats.norm(mu[i], sigma[i]).cdf(self.data)\n",
    "            prob = np.append(prob, p, axis=0)\n",
    "        return prob\n",
    "\n",
    "    def posterior_probability(self):\n",
    "        post_prob = np.empty((0, self.m), np.float64)\n",
    "        for i in range(self.k):\n",
    "            idx = list(range(self.k))\n",
    "            idx.remove(i)\n",
    "            a = (self.prob[i, :] * self.prior[i])\n",
    "            b = (self.prob[idx, :] * self.prior[idx]).sum(axis=0).reshape(1, -1)\n",
    "            pp = a/(a + b)\n",
    "            post_prob = np.append(post_prob, pp, axis=0)\n",
    "        post_prob = post_prob/post_prob.sum(axis=0)\n",
    "        return post_prob\n",
    "\n",
    "    def log_likelihood(self, prob):\n",
    "        return log(prob).sum(axis=1).sum(axis=0)\n",
    "\n",
    "    def new_value(self):\n",
    "        wt_post_prob = self.post_prob / self.post_prob.sum(axis=1).reshape(-1, 1)\n",
    "        \n",
    "        # new mean assignment\n",
    "        mu = wt_post_prob.dot(self.data.T)\n",
    "        \n",
    "        # new sd assignment\n",
    "        sigma = np.empty((0, 1), np.float64)\n",
    "        for i in range(self.k):\n",
    "            s = sqrt((self.post_prob[i, :] * (self.data - self.mu[i])**2).sum(axis=1)).reshape(-1, 1)\n",
    "            sigma = np.append(sigma, s, axis=0)\n",
    "        return mu, sigma\n",
    "\n",
    "    def assignment(self):\n",
    "        mu, sigma = self.new_value()\n",
    "        prob = self.probility(mu, sigma)\n",
    "        ll = self.log_likelihood(prob)\n",
    "        \n",
    "        if ll <= self.log_likelihood_value[self.num_iter]:\n",
    "            do_break = True\n",
    "        else:\n",
    "            do_break = False\n",
    "            self.mu = mu\n",
    "            self.sigma = sigma\n",
    "        return do_break\n",
    "\n",
    "    def fit(self, num_iter, verbose = True):\n",
    "        \n",
    "        self.log_likelihood_value = np.empty(0, np.float64)\n",
    "        for i in range(num_iter):\n",
    "            self.num_iter = i\n",
    "            self.prob = self.probility(self.mu, self.sigma)\n",
    "            self.log_likelihood_value = np.append(self.log_likelihood_value, self.log_likelihood(self.prob))\n",
    "            \n",
    "            self.post_prob = self.posterior_probability()\n",
    "            self.prior = self.post_prob.sum(axis=1)/self.post_prob.sum(axis=1).sum(axis=0)\n",
    "\n",
    "            if verbose:\n",
    "                print(\"mean:\", self.mu.T[0, :], \"standard deviation:\", self.sigma.T[0], \"log likelihood:\", self.log_likelihood_value[self.num_iter])\n",
    "                \n",
    "            if self.assignment():\n",
    "                break\n",
    "        "
   ]
  },
  {
   "cell_type": "code",
   "execution_count": 7,
   "metadata": {},
   "outputs": [
    {
     "name": "stderr",
     "output_type": "stream",
     "text": [
      "C:\\Users\\smrut\\Anaconda3\\lib\\site-packages\\ipykernel_launcher.py:32: RuntimeWarning: divide by zero encountered in log\n",
      "C:\\Users\\smrut\\Anaconda3\\lib\\site-packages\\ipykernel_launcher.py:35: RuntimeWarning: invalid value encountered in true_divide\n",
      "C:\\Users\\smrut\\Anaconda3\\lib\\site-packages\\scipy\\stats\\_distn_infrastructure.py:901: RuntimeWarning: invalid value encountered in greater\n",
      "  return (a < x) & (x < b)\n",
      "C:\\Users\\smrut\\Anaconda3\\lib\\site-packages\\scipy\\stats\\_distn_infrastructure.py:901: RuntimeWarning: invalid value encountered in less\n",
      "  return (a < x) & (x < b)\n",
      "C:\\Users\\smrut\\Anaconda3\\lib\\site-packages\\scipy\\stats\\_distn_infrastructure.py:1807: RuntimeWarning: invalid value encountered in greater_equal\n",
      "  cond2 = (x >= _b) & cond0\n",
      "C:\\Users\\smrut\\Anaconda3\\lib\\site-packages\\scipy\\stats\\_distn_infrastructure.py:1805: RuntimeWarning: invalid value encountered in greater\n",
      "  cond0 = self._argcheck(*args) & (scale > 0)\n",
      "C:\\Users\\smrut\\Anaconda3\\lib\\site-packages\\scipy\\stats\\_distn_infrastructure.py:1806: RuntimeWarning: invalid value encountered in greater\n",
      "  cond1 = self._open_support_mask(x, *args) & (scale > 0)\n"
     ]
    }
   ],
   "source": [
    "X = np.sort(data[:, 2])\n",
    "model_list = []\n",
    "for i in range(1000):\n",
    "    model_list.append(gmm(k=2, data=X))\n",
    "    model_list[i].fit(10, verbose = False)"
   ]
  },
  {
   "cell_type": "code",
   "execution_count": 8,
   "metadata": {},
   "outputs": [],
   "source": [
    "ll_array = np.array([model.log_likelihood_value[-1] for model in model_list])\n",
    "model_list = np.array(model_list)[~np.isnan(ll_array)]"
   ]
  },
  {
   "cell_type": "code",
   "execution_count": 9,
   "metadata": {},
   "outputs": [],
   "source": [
    "model_index = np.argmax([model.log_likelihood_value[-1] for model in model_list])\n",
    "model = model_list[model_index]"
   ]
  },
  {
   "cell_type": "code",
   "execution_count": 10,
   "metadata": {},
   "outputs": [
    {
     "name": "stdout",
     "output_type": "stream",
     "text": [
      "log likelihood -30.339261472085454\n",
      "mean [[0.26461431]\n",
      " [0.2245973 ]]\n",
      "standar dev [[2.47891298]\n",
      " [1.12573704]]\n",
      "weights [0.47460383 0.52539617]\n"
     ]
    }
   ],
   "source": [
    "print(\"log likelihood\", model.log_likelihood_value[-1])\n",
    "print(\"mean\", model.mu)\n",
    "print(\"standar dev\", model.sigma)\n",
    "print(\"weights\", model.prior)"
   ]
  },
  {
   "cell_type": "code",
   "execution_count": 11,
   "metadata": {},
   "outputs": [
    {
     "data": {
      "image/png": "[encoded data removed]",
      "text/plain": [
       "<Figure size 432x288 with 1 Axes>"
      ]
     },
     "metadata": {
      "needs_background": "light"
     },
     "output_type": "display_data"
    }
   ],
   "source": [
    "for i in range(model.k):\n",
    "    plt.plot(X, model.post_prob[i])"
   ]
  },
  {
   "cell_type": "code",
   "execution_count": 12,
   "metadata": {},
   "outputs": [
    {
     "data": {
      "image/png": "[encoded data removed]",
      "text/plain": [
       "<Figure size 432x288 with 1 Axes>"
      ]
     },
     "metadata": {
      "needs_background": "light"
     },
     "output_type": "display_data"
    }
   ],
   "source": [
    "for i in range(model.k):\n",
    "    plt.plot(X, model.prob[i])\n",
    "    plt.scatter(((model.post_prob.T>0.5) * X.reshape(-1,1))[:,i], np.zeros(X.shape[0]))"
   ]
  },
  {
   "cell_type": "code",
   "execution_count": 13,
   "metadata": {},
   "outputs": [
    {
     "data": {
      "text/plain": [
       "[<matplotlib.lines.Line2D at 0x1ca53da4748>]"
      ]
     },
     "execution_count": 13,
     "metadata": {},
     "output_type": "execute_result"
    },
    {
     "data": {
      "image/png": "[encoded data removed]",
      "text/plain": [
       "<Figure size 432x288 with 1 Axes>"
      ]
     },
     "metadata": {
      "needs_background": "light"
     },
     "output_type": "display_data"
    }
   ],
   "source": [
    "for i in range(model.k):\n",
    "    if i == 0:\n",
    "        wx = model.post_prob[i] * model.prob[i]\n",
    "    else:\n",
    "        wx += model.post_prob[i] * model.prob[i]\n",
    "plt.plot(X, wx)\n"
   ]
  },
  {
   "cell_type": "code",
   "execution_count": null,
   "metadata": {},
   "outputs": [],
   "source": []
  }
 ],
 "metadata": {
  "kernelspec": {
   "display_name": "Python 3",
   "language": "python",
   "name": "python3"
  },
  "language_info": {
   "codemirror_mode": {
    "name": "ipython",
    "version": 3
   },
   "file_extension": ".py",
   "mimetype": "text/x-python",
   "name": "python",
   "nbconvert_exporter": "python",
   "pygments_lexer": "ipython3",
   "version": "3.7.4"
  }
 },
 "nbformat": 4,
 "nbformat_minor": 2
}
