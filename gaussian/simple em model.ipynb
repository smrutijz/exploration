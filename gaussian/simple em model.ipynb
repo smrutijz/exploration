{
 "cells": [
  {
   "cell_type": "code",
   "execution_count": 1,
   "metadata": {},
   "outputs": [],
   "source": [
    "import matplotlib as mpl\n",
    "import matplotlib.pyplot as plt\n",
    "import scipy.stats\n",
    "import numpy as np\n",
    "\n",
    "from sklearn import datasets"
   ]
  },
  {
   "cell_type": "code",
   "execution_count": 2,
   "metadata": {},
   "outputs": [],
   "source": [
    "iris = datasets.load_iris()\n",
    "cols = iris.feature_names\n",
    "data = iris.data"
   ]
  },
  {
   "cell_type": "code",
   "execution_count": 3,
   "metadata": {},
   "outputs": [
    {
     "data": {
      "image/png": "[encoded data removed]",
      "text/plain": [
       "<Figure size 432x288 with 1 Axes>"
      ]
     },
     "metadata": {
      "needs_background": "light"
     },
     "output_type": "display_data"
    }
   ],
   "source": [
    "plt.hist(data[:,2])\n",
    "plt.show()"
   ]
  },
  {
   "cell_type": "code",
   "execution_count": 4,
   "metadata": {},
   "outputs": [],
   "source": [
    "from numpy import sqrt, pi, exp, log\n",
    "class normal:\n",
    "    def __init__(self, mu, sigma, x):\n",
    "        self.mu = mu\n",
    "        self.sigma = sigma\n",
    "        self.x = x\n",
    "    def pdf(self):\n",
    "        e = (self.x - self.mu)**2/(2 * self.sigma**2)\n",
    "        return scipy.stats.norm(self.mu, self.sigma).pdf(self.x)\n",
    "        #return (self.sigma * sqrt(2*pi))**-1 * exp(-e)"
   ]
  },
  {
   "cell_type": "code",
   "execution_count": 5,
   "metadata": {},
   "outputs": [
    {
     "data": {
      "image/png": "[encoded data removed]",
      "text/plain": [
       "<Figure size 432x288 with 1 Axes>"
      ]
     },
     "metadata": {
      "needs_background": "light"
     },
     "output_type": "display_data"
    }
   ],
   "source": [
    "#data[:, 2]\n",
    "dummy_data = np.arange(-5,5,0.05)\n",
    "n1 = normal(mu=0, sigma=1, x=dummy_data)\n",
    "plt.plot(dummy_data, n1.pdf());"
   ]
  },
  {
   "cell_type": "code",
   "execution_count": 6,
   "metadata": {},
   "outputs": [],
   "source": [
    "class gmm():\n",
    "    def __init__(self, k, data):\n",
    "        self.m = data.shape[0]\n",
    "        self.data = data.reshape(1, -1)\n",
    "        self.k = k\n",
    "        self.mu =  np.random.uniform(low=0, high=10, size=(k, 1))\n",
    "        self.sigma = np.random.uniform(low=0, high=10, size=(k, 1))\n",
    "        self.prob = np.empty((k, self.m), np.float64)\n",
    "        self.post_prob = np.empty((k, self.m), np.float64)\n",
    "        self.prior = np.repeat(1/k, k).reshape(k, 1)\n",
    "\n",
    "    def probility(self, mu, sigma):\n",
    "        prob = np.empty((0, self.m), np.float64)\n",
    "        for i in range(self.k):\n",
    "            p = scipy.stats.norm(mu[i], sigma[i]).pdf(self.data)\n",
    "            prob = np.append(prob, p, axis=0)\n",
    "        return prob\n",
    "\n",
    "    def posterior_probability(self):\n",
    "        post_prob = np.empty((0, self.m), np.float64)\n",
    "        for i in range(self.k):\n",
    "            idx = list(range(self.k))\n",
    "            idx.remove(i)\n",
    "            a = (self.prob[i, :] * self.prior[i])\n",
    "            b = (self.prob[idx, :] * self.prior[idx]).sum(axis=0).reshape(1, -1)\n",
    "            pp = a/(a + b)\n",
    "            post_prob = np.append(post_prob, pp, axis=0)\n",
    "        return post_prob\n",
    "\n",
    "    def log_likelihood(self, prob):\n",
    "        return log(prob).sum(axis=1).sum(axis=0)\n",
    "\n",
    "    def new_value(self):\n",
    "        wt_post_prob = self.post_prob / self.post_prob.sum(axis=1).reshape(-1, 1)\n",
    "        \n",
    "        # new mean assignment\n",
    "        mu = wt_post_prob.dot(self.data.T)\n",
    "        \n",
    "        # new sd assignment\n",
    "        sigma = np.empty((0, 1), np.float64)\n",
    "        for i in range(self.k):\n",
    "            s = sqrt((self.post_prob[i, :] * (self.data - self.mu[i])**2).sum(axis=1)).reshape(-1, 1)\n",
    "            sigma = np.append(sigma, s, axis=0)\n",
    "        return mu, sigma\n",
    "\n",
    "    def assignment(self):\n",
    "        mu, sigma = self.new_value()\n",
    "        prob = self.probility(mu, sigma)\n",
    "        ll = self.log_likelihood(prob)\n",
    "        \n",
    "        if ll <= self.log_likelihood_value[self.num_iter]:\n",
    "            do_break = True\n",
    "        else:\n",
    "            do_break = False\n",
    "            self.mu = mu\n",
    "            self.sigma = sigma\n",
    "        return do_break\n",
    "\n",
    "    def fit(self, num_iter, verbose = True):\n",
    "        \n",
    "        self.log_likelihood_value = np.empty(0, np.float64)\n",
    "        for i in range(num_iter):\n",
    "            self.num_iter = i\n",
    "            self.prob = self.probility(self.mu, self.sigma)\n",
    "            self.log_likelihood_value = np.append(self.log_likelihood_value, self.log_likelihood(self.prob))\n",
    "            \n",
    "            self.post_prob = self.posterior_probability()\n",
    "            self.prior = self.post_prob.sum(axis=1)/self.post_prob.sum(axis=1).sum(axis=0)\n",
    "\n",
    "            if verbose:\n",
    "                print(\"mean:\", self.mu.T[0, :], \"standard deviation:\", self.sigma.T[0], \"log likelihood:\", self.log_likelihood_value[self.num_iter])\n",
    "                \n",
    "            if self.assignment():\n",
    "                break\n",
    "        "
   ]
  },
  {
   "cell_type": "code",
   "execution_count": 7,
   "metadata": {},
   "outputs": [
    {
     "name": "stderr",
     "output_type": "stream",
     "text": [
      "C:\\Users\\smrut\\Anaconda3\\lib\\site-packages\\ipykernel_launcher.py:31: RuntimeWarning: divide by zero encountered in log\n",
      "C:\\Users\\smrut\\Anaconda3\\lib\\site-packages\\ipykernel_launcher.py:34: RuntimeWarning: invalid value encountered in true_divide\n",
      "C:\\Users\\smrut\\Anaconda3\\lib\\site-packages\\scipy\\stats\\_distn_infrastructure.py:897: RuntimeWarning: invalid value encountered in greater_equal\n",
      "  return (a <= x) & (x <= b)\n",
      "C:\\Users\\smrut\\Anaconda3\\lib\\site-packages\\scipy\\stats\\_distn_infrastructure.py:897: RuntimeWarning: invalid value encountered in less_equal\n",
      "  return (a <= x) & (x <= b)\n",
      "C:\\Users\\smrut\\Anaconda3\\lib\\site-packages\\scipy\\stats\\_distn_infrastructure.py:1721: RuntimeWarning: invalid value encountered in greater\n",
      "  cond0 = self._argcheck(*args) & (scale > 0)\n",
      "C:\\Users\\smrut\\Anaconda3\\lib\\site-packages\\scipy\\stats\\_distn_infrastructure.py:1722: RuntimeWarning: invalid value encountered in greater\n",
      "  cond1 = self._support_mask(x, *args) & (scale > 0)\n"
     ]
    }
   ],
   "source": [
    "X = np.sort(data[:, 2])\n",
    "model_list = []\n",
    "for i in range(100):\n",
    "    model_list.append(gmm(k=2, data=X))\n",
    "    model_list[i].fit(10, verbose = False)"
   ]
  },
  {
   "cell_type": "code",
   "execution_count": 8,
   "metadata": {},
   "outputs": [],
   "source": [
    "ll_array = np.array([model.log_likelihood_value[-1] for model in model_list])\n",
    "model_list = np.array(model_list)[~np.isnan(ll_array)]"
   ]
  },
  {
   "cell_type": "code",
   "execution_count": 9,
   "metadata": {},
   "outputs": [],
   "source": [
    "model_index = np.argmax([model.log_likelihood_value[-1] for model in model_list])\n",
    "model = model_list[model_index]"
   ]
  },
  {
   "cell_type": "code",
   "execution_count": 10,
   "metadata": {},
   "outputs": [
    {
     "name": "stdout",
     "output_type": "stream",
     "text": [
      "log likelihood -640.9881707161069\n",
      "mean [[4.14977517]\n",
      " [4.32857501]]\n",
      "standar dev [[2.24970482]\n",
      " [3.07211187]]\n",
      "weights [0.54270261 0.45729739]\n"
     ]
    }
   ],
   "source": [
    "print(\"log likelihood\", model.log_likelihood_value[-1])\n",
    "print(\"mean\", model.mu)\n",
    "print(\"standar dev\", model.sigma)\n",
    "print(\"weights\", model.prior)"
   ]
  },
  {
   "cell_type": "code",
   "execution_count": 11,
   "metadata": {},
   "outputs": [
    {
     "data": {
      "text/plain": [
       "array([1., 1.])"
      ]
     },
     "execution_count": 11,
     "metadata": {},
     "output_type": "execute_result"
    }
   ],
   "source": [
    "(model.post_prob / model.post_prob.sum(axis=1).reshape(-1, 1)).sum(axis=1)"
   ]
  },
  {
   "cell_type": "code",
   "execution_count": 12,
   "metadata": {},
   "outputs": [],
   "source": [
    "for i in range(model.k):\n",
    "    if i == 0:\n",
    "        wx = model.prior[i] * model.prob[i]\n",
    "    else:\n",
    "        wx += model.prior[i] * model.prob[i]"
   ]
  },
  {
   "cell_type": "code",
   "execution_count": 13,
   "metadata": {},
   "outputs": [
    {
     "data": {
      "text/plain": [
       "[<matplotlib.lines.Line2D at 0x261558f7608>]"
      ]
     },
     "execution_count": 13,
     "metadata": {},
     "output_type": "execute_result"
    },
    {
     "data": {
      "image/png": "[encoded data removed]",
      "text/plain": [
       "<Figure size 432x288 with 1 Axes>"
      ]
     },
     "metadata": {
      "needs_background": "light"
     },
     "output_type": "display_data"
    }
   ],
   "source": [
    "for i in range(model.k):\n",
    "    plt.plot(X, model.prob[i])\n",
    "    plt.scatter(X, model.post_prob[i])\n",
    "    #plt.scatter(((model.post_prob.T>0.5) * X.reshape(-1,1))[:,i], np.zeros(X.shape[0]))\n",
    "plt.plot(X, wx, c=\"green\")"
   ]
  },
  {
   "cell_type": "code",
   "execution_count": 14,
   "metadata": {},
   "outputs": [
    {
     "data": {
      "text/plain": [
       "array([0.54270261, 0.45729739])"
      ]
     },
     "execution_count": 14,
     "metadata": {},
     "output_type": "execute_result"
    }
   ],
   "source": [
    "model.prior"
   ]
  },
  {
   "cell_type": "code",
   "execution_count": 15,
   "metadata": {},
   "outputs": [
    {
     "data": {
      "text/plain": [
       "array([[0.06654647, 0.07220331],\n",
       "       [0.07074958, 0.07475562],\n",
       "       [0.0750697 , 0.07731619],\n",
       "       [0.0750697 , 0.07731619],\n",
       "       [0.07949639, 0.07987978],\n",
       "       [0.07949639, 0.07987978],\n",
       "       [0.07949639, 0.07987978],\n",
       "       [0.07949639, 0.07987978],\n",
       "       [0.07949639, 0.07987978],\n",
       "       [0.07949639, 0.07987978],\n",
       "       [0.07949639, 0.07987978],\n",
       "       [0.08401794, 0.08244097],\n",
       "       [0.08401794, 0.08244097],\n",
       "       [0.08401794, 0.08244097],\n",
       "       [0.08401794, 0.08244097],\n",
       "       [0.08401794, 0.08244097],\n",
       "       [0.08401794, 0.08244097],\n",
       "       [0.08401794, 0.08244097],\n",
       "       [0.08401794, 0.08244097],\n",
       "       [0.08401794, 0.08244097],\n",
       "       [0.08401794, 0.08244097],\n",
       "       [0.08401794, 0.08244097],\n",
       "       [0.08401794, 0.08244097],\n",
       "       [0.08401794, 0.08244097],\n",
       "       [0.08862138, 0.08499418],\n",
       "       [0.08862138, 0.08499418],\n",
       "       [0.08862138, 0.08499418],\n",
       "       [0.08862138, 0.08499418],\n",
       "       [0.08862138, 0.08499418],\n",
       "       [0.08862138, 0.08499418],\n",
       "       [0.08862138, 0.08499418],\n",
       "       [0.08862138, 0.08499418],\n",
       "       [0.08862138, 0.08499418],\n",
       "       [0.08862138, 0.08499418],\n",
       "       [0.08862138, 0.08499418],\n",
       "       [0.08862138, 0.08499418],\n",
       "       [0.08862138, 0.08499418],\n",
       "       [0.09329255, 0.08753367],\n",
       "       [0.09329255, 0.08753367],\n",
       "       [0.09329255, 0.08753367],\n",
       "       [0.09329255, 0.08753367],\n",
       "       [0.09329255, 0.08753367],\n",
       "       [0.09329255, 0.08753367],\n",
       "       [0.09329255, 0.08753367],\n",
       "       [0.09801607, 0.09005356],\n",
       "       [0.09801607, 0.09005356],\n",
       "       [0.09801607, 0.09005356],\n",
       "       [0.09801607, 0.09005356],\n",
       "       [0.10755329, 0.09501058],\n",
       "       [0.10755329, 0.09501058],\n",
       "       [0.15562002, 0.11826636],\n",
       "       [0.16512103, 0.12278103],\n",
       "       [0.16512103, 0.12278103],\n",
       "       [0.17008652, 0.125221  ],\n",
       "       [0.17008652, 0.125221  ],\n",
       "       [0.17211413, 0.12625828],\n",
       "       [0.17382212, 0.12716933],\n",
       "       [0.17520055, 0.12795132],\n",
       "       [0.17624135, 0.12860178],\n",
       "       [0.17624135, 0.12860178],\n",
       "       [0.17624135, 0.12860178],\n",
       "       [0.17693839, 0.12911867],\n",
       "       [0.17693839, 0.12911867],\n",
       "       [0.17693839, 0.12911867],\n",
       "       [0.17693839, 0.12911867],\n",
       "       [0.17693839, 0.12911867],\n",
       "       [0.17728755, 0.12950035],\n",
       "       [0.17728755, 0.12950035],\n",
       "       [0.17728755, 0.12950035],\n",
       "       [0.17728676, 0.12974561],\n",
       "       [0.17728676, 0.12974561],\n",
       "       [0.17728676, 0.12974561],\n",
       "       [0.17728676, 0.12974561],\n",
       "       [0.17693603, 0.12985368],\n",
       "       [0.17693603, 0.12985368],\n",
       "       [0.17623744, 0.1298242 ],\n",
       "       [0.17623744, 0.1298242 ],\n",
       "       [0.17623744, 0.1298242 ],\n",
       "       [0.17623744, 0.1298242 ],\n",
       "       [0.1751951 , 0.12965728],\n",
       "       [0.1751951 , 0.12965728],\n",
       "       [0.1751951 , 0.12965728],\n",
       "       [0.1751951 , 0.12965728],\n",
       "       [0.1751951 , 0.12965728],\n",
       "       [0.1751951 , 0.12965728],\n",
       "       [0.1751951 , 0.12965728],\n",
       "       [0.1751951 , 0.12965728],\n",
       "       [0.17381517, 0.12935345],\n",
       "       [0.17381517, 0.12935345],\n",
       "       [0.17381517, 0.12935345],\n",
       "       [0.17210571, 0.12891366],\n",
       "       [0.17210571, 0.12891366],\n",
       "       [0.17210571, 0.12891366],\n",
       "       [0.17210571, 0.12891366],\n",
       "       [0.17210571, 0.12891366],\n",
       "       [0.1700767 , 0.12833931],\n",
       "       [0.1700767 , 0.12833931],\n",
       "       [0.1700767 , 0.12833931],\n",
       "       [0.1700767 , 0.12833931],\n",
       "       [0.16773985, 0.12763221],\n",
       "       [0.16773985, 0.12763221],\n",
       "       [0.16773985, 0.12763221],\n",
       "       [0.16773985, 0.12763221],\n",
       "       [0.16773985, 0.12763221],\n",
       "       [0.16510856, 0.12679459],\n",
       "       [0.16510856, 0.12679459],\n",
       "       [0.16510856, 0.12679459],\n",
       "       [0.16510856, 0.12679459],\n",
       "       [0.16219776, 0.12582908],\n",
       "       [0.16219776, 0.12582908],\n",
       "       [0.16219776, 0.12582908],\n",
       "       [0.16219776, 0.12582908],\n",
       "       [0.16219776, 0.12582908],\n",
       "       [0.16219776, 0.12582908],\n",
       "       [0.16219776, 0.12582908],\n",
       "       [0.16219776, 0.12582908],\n",
       "       [0.15902376, 0.12473868],\n",
       "       [0.15902376, 0.12473868],\n",
       "       [0.15560412, 0.12352677],\n",
       "       [0.15560412, 0.12352677],\n",
       "       [0.15195747, 0.1221971 ],\n",
       "       [0.15195747, 0.1221971 ],\n",
       "       [0.14810338, 0.12075372],\n",
       "       [0.14810338, 0.12075372],\n",
       "       [0.14810338, 0.12075372],\n",
       "       [0.14406211, 0.11920103],\n",
       "       [0.14406211, 0.11920103],\n",
       "       [0.14406211, 0.11920103],\n",
       "       [0.14406211, 0.11920103],\n",
       "       [0.14406211, 0.11920103],\n",
       "       [0.14406211, 0.11920103],\n",
       "       [0.13985451, 0.11754369],\n",
       "       [0.13985451, 0.11754369],\n",
       "       [0.13985451, 0.11754369],\n",
       "       [0.13550181, 0.11578664],\n",
       "       [0.13550181, 0.11578664],\n",
       "       [0.13550181, 0.11578664],\n",
       "       [0.13102544, 0.11393507],\n",
       "       [0.13102544, 0.11393507],\n",
       "       [0.12644686, 0.11199439],\n",
       "       [0.12644686, 0.11199439],\n",
       "       [0.12178741, 0.10997018],\n",
       "       [0.12178741, 0.10997018],\n",
       "       [0.12178741, 0.10997018],\n",
       "       [0.11230958, 0.10569435],\n",
       "       [0.10753179, 0.10345464],\n",
       "       [0.09799474, 0.09880202],\n",
       "       [0.09327141, 0.09640144],\n",
       "       [0.09327141, 0.09640144],\n",
       "       [0.08399741, 0.09148259]])"
      ]
     },
     "execution_count": 15,
     "metadata": {},
     "output_type": "execute_result"
    }
   ],
   "source": [
    "model.prob.T"
   ]
  },
  {
   "cell_type": "code",
   "execution_count": 16,
   "metadata": {},
   "outputs": [
    {
     "data": {
      "text/plain": [
       "array([[0.47961494, 0.52038506],\n",
       "       [0.48623404, 0.51376596],\n",
       "       [0.49262895, 0.50737105],\n",
       "       [0.49262895, 0.50737105],\n",
       "       [0.49879721, 0.50120279],\n",
       "       [0.49879721, 0.50120279],\n",
       "       [0.49879721, 0.50120279],\n",
       "       [0.49879721, 0.50120279],\n",
       "       [0.49879721, 0.50120279],\n",
       "       [0.49879721, 0.50120279],\n",
       "       [0.49879721, 0.50120279],\n",
       "       [0.50473679, 0.49526321],\n",
       "       [0.50473679, 0.49526321],\n",
       "       [0.50473679, 0.49526321],\n",
       "       [0.50473679, 0.49526321],\n",
       "       [0.50473679, 0.49526321],\n",
       "       [0.50473679, 0.49526321],\n",
       "       [0.50473679, 0.49526321],\n",
       "       [0.50473679, 0.49526321],\n",
       "       [0.50473679, 0.49526321],\n",
       "       [0.50473679, 0.49526321],\n",
       "       [0.50473679, 0.49526321],\n",
       "       [0.50473679, 0.49526321],\n",
       "       [0.50473679, 0.49526321],\n",
       "       [0.51044607, 0.48955393],\n",
       "       [0.51044607, 0.48955393],\n",
       "       [0.51044607, 0.48955393],\n",
       "       [0.51044607, 0.48955393],\n",
       "       [0.51044607, 0.48955393],\n",
       "       [0.51044607, 0.48955393],\n",
       "       [0.51044607, 0.48955393],\n",
       "       [0.51044607, 0.48955393],\n",
       "       [0.51044607, 0.48955393],\n",
       "       [0.51044607, 0.48955393],\n",
       "       [0.51044607, 0.48955393],\n",
       "       [0.51044607, 0.48955393],\n",
       "       [0.51044607, 0.48955393],\n",
       "       [0.5159238 , 0.4840762 ],\n",
       "       [0.5159238 , 0.4840762 ],\n",
       "       [0.5159238 , 0.4840762 ],\n",
       "       [0.5159238 , 0.4840762 ],\n",
       "       [0.5159238 , 0.4840762 ],\n",
       "       [0.5159238 , 0.4840762 ],\n",
       "       [0.5159238 , 0.4840762 ],\n",
       "       [0.52116904, 0.47883096],\n",
       "       [0.52116904, 0.47883096],\n",
       "       [0.52116904, 0.47883096],\n",
       "       [0.52116904, 0.47883096],\n",
       "       [0.5309599 , 0.4690401 ],\n",
       "       [0.5309599 , 0.4690401 ],\n",
       "       [0.56819189, 0.43180811],\n",
       "       [0.57353196, 0.42646804],\n",
       "       [0.57353196, 0.42646804],\n",
       "       [0.57596407, 0.42403593],\n",
       "       [0.57596407, 0.42403593],\n",
       "       [0.57684331, 0.42315669],\n",
       "       [0.57749852, 0.42250148],\n",
       "       [0.57792997, 0.42207003],\n",
       "       [0.57813784, 0.42186216],\n",
       "       [0.57813784, 0.42186216],\n",
       "       [0.57813784, 0.42186216],\n",
       "       [0.57812222, 0.42187778],\n",
       "       [0.57812222, 0.42187778],\n",
       "       [0.57812222, 0.42187778],\n",
       "       [0.57812222, 0.42187778],\n",
       "       [0.57812222, 0.42187778],\n",
       "       [0.57788312, 0.42211688],\n",
       "       [0.57788312, 0.42211688],\n",
       "       [0.57788312, 0.42211688],\n",
       "       [0.57742041, 0.42257959],\n",
       "       [0.57742041, 0.42257959],\n",
       "       [0.57742041, 0.42257959],\n",
       "       [0.57742041, 0.42257959],\n",
       "       [0.57673392, 0.42326608],\n",
       "       [0.57673392, 0.42326608],\n",
       "       [0.57582335, 0.42417665],\n",
       "       [0.57582335, 0.42417665],\n",
       "       [0.57582335, 0.42417665],\n",
       "       [0.57582335, 0.42417665],\n",
       "       [0.57468832, 0.42531168],\n",
       "       [0.57468832, 0.42531168],\n",
       "       [0.57468832, 0.42531168],\n",
       "       [0.57468832, 0.42531168],\n",
       "       [0.57468832, 0.42531168],\n",
       "       [0.57468832, 0.42531168],\n",
       "       [0.57468832, 0.42531168],\n",
       "       [0.57468832, 0.42531168],\n",
       "       [0.57332838, 0.42667162],\n",
       "       [0.57332838, 0.42667162],\n",
       "       [0.57332838, 0.42667162],\n",
       "       [0.57174299, 0.42825701],\n",
       "       [0.57174299, 0.42825701],\n",
       "       [0.57174299, 0.42825701],\n",
       "       [0.57174299, 0.42825701],\n",
       "       [0.57174299, 0.42825701],\n",
       "       [0.56993156, 0.43006844],\n",
       "       [0.56993156, 0.43006844],\n",
       "       [0.56993156, 0.43006844],\n",
       "       [0.56993156, 0.43006844],\n",
       "       [0.56789342, 0.43210658],\n",
       "       [0.56789342, 0.43210658],\n",
       "       [0.56789342, 0.43210658],\n",
       "       [0.56789342, 0.43210658],\n",
       "       [0.56789342, 0.43210658],\n",
       "       [0.56562788, 0.43437212],\n",
       "       [0.56562788, 0.43437212],\n",
       "       [0.56562788, 0.43437212],\n",
       "       [0.56562788, 0.43437212],\n",
       "       [0.56313419, 0.43686581],\n",
       "       [0.56313419, 0.43686581],\n",
       "       [0.56313419, 0.43686581],\n",
       "       [0.56313419, 0.43686581],\n",
       "       [0.56313419, 0.43686581],\n",
       "       [0.56313419, 0.43686581],\n",
       "       [0.56313419, 0.43686581],\n",
       "       [0.56313419, 0.43686581],\n",
       "       [0.56041159, 0.43958841],\n",
       "       [0.56041159, 0.43958841],\n",
       "       [0.55745933, 0.44254067],\n",
       "       [0.55745933, 0.44254067],\n",
       "       [0.55427664, 0.44572336],\n",
       "       [0.55427664, 0.44572336],\n",
       "       [0.55086281, 0.44913719],\n",
       "       [0.55086281, 0.44913719],\n",
       "       [0.55086281, 0.44913719],\n",
       "       [0.54721717, 0.45278283],\n",
       "       [0.54721717, 0.45278283],\n",
       "       [0.54721717, 0.45278283],\n",
       "       [0.54721717, 0.45278283],\n",
       "       [0.54721717, 0.45278283],\n",
       "       [0.54721717, 0.45278283],\n",
       "       [0.54333912, 0.45666088],\n",
       "       [0.54333912, 0.45666088],\n",
       "       [0.54333912, 0.45666088],\n",
       "       [0.53922816, 0.46077184],\n",
       "       [0.53922816, 0.46077184],\n",
       "       [0.53922816, 0.46077184],\n",
       "       [0.53488391, 0.46511609],\n",
       "       [0.53488391, 0.46511609],\n",
       "       [0.53030614, 0.46969386],\n",
       "       [0.53030614, 0.46969386],\n",
       "       [0.52549481, 0.47450519],\n",
       "       [0.52549481, 0.47450519],\n",
       "       [0.52549481, 0.47450519],\n",
       "       [0.51517227, 0.48482773],\n",
       "       [0.50966213, 0.49033787],\n",
       "       [0.49794894, 0.50205106],\n",
       "       [0.49174888, 0.50825112],\n",
       "       [0.49174888, 0.50825112],\n",
       "       [0.47867228, 0.52132772]])"
      ]
     },
     "execution_count": 16,
     "metadata": {},
     "output_type": "execute_result"
    }
   ],
   "source": [
    "model.post_prob.T"
   ]
  }
 ],
 "metadata": {
  "kernelspec": {
   "display_name": "Python 3",
   "language": "python",
   "name": "python3"
  },
  "language_info": {
   "codemirror_mode": {
    "name": "ipython",
    "version": 3
   },
   "file_extension": ".py",
   "mimetype": "text/x-python",
   "name": "python",
   "nbconvert_exporter": "python",
   "pygments_lexer": "ipython3",
   "version": "3.7.4"
  }
 },
 "nbformat": 4,
 "nbformat_minor": 2
}
