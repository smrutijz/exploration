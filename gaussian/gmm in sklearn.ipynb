{
 "cells": [
  {
   "cell_type": "code",
   "execution_count": 5,
   "metadata": {},
   "outputs": [],
   "source": [
    "import matplotlib as mpl\n",
    "import matplotlib.pyplot as plt\n",
    "import scipy.stats\n",
    "import numpy as np\n",
    "\n",
    "from sklearn import datasets\n",
    "from sklearn.mixture import GaussianMixture"
   ]
  },
  {
   "cell_type": "code",
   "execution_count": 6,
   "metadata": {},
   "outputs": [],
   "source": [
    "iris = datasets.load_iris()\n",
    "cols = iris.feature_names\n",
    "data = iris.data"
   ]
  },
  {
   "cell_type": "code",
   "execution_count": 7,
   "metadata": {},
   "outputs": [
    {
     "data": {
      "image/png": "[encoded data removed]",
      "text/plain": [
       "<Figure size 432x288 with 1 Axes>"
      ]
     },
     "metadata": {
      "needs_background": "light"
     },
     "output_type": "display_data"
    }
   ],
   "source": [
    "plt.hist(data[:,2])\n",
    "plt.show()"
   ]
  },
  {
   "cell_type": "code",
   "execution_count": 17,
   "metadata": {},
   "outputs": [
    {
     "data": {
      "text/plain": [
       "GaussianMixture(covariance_type='full', init_params='kmeans', max_iter=100,\n",
       "                means_init=None, n_components=2, n_init=1, precisions_init=None,\n",
       "                random_state=None, reg_covar=1e-06, tol=0.001, verbose=0,\n",
       "                verbose_interval=10, warm_start=False, weights_init=None)"
      ]
     },
     "execution_count": 17,
     "metadata": {},
     "output_type": "execute_result"
    }
   ],
   "source": [
    "X = np.sort(data[:, 2]).reshape(-1,1)\n",
    "gmm = GaussianMixture(n_components=2)\n",
    "gmm.fit(X)"
   ]
  },
  {
   "cell_type": "code",
   "execution_count": 18,
   "metadata": {},
   "outputs": [
    {
     "data": {
      "text/plain": [
       "array([0.33311128, 0.66688872])"
      ]
     },
     "execution_count": 18,
     "metadata": {},
     "output_type": "execute_result"
    }
   ],
   "source": [
    "gmm.weights_"
   ]
  },
  {
   "cell_type": "code",
   "execution_count": 25,
   "metadata": {},
   "outputs": [
    {
     "data": {
      "text/plain": [
       "(2, 1)"
      ]
     },
     "execution_count": 25,
     "metadata": {},
     "output_type": "execute_result"
    }
   ],
   "source": [
    "gmm.means_.shape"
   ]
  },
  {
   "cell_type": "code",
   "execution_count": 29,
   "metadata": {},
   "outputs": [
    {
     "data": {
      "text/plain": [
       "array([[[0.02946712]],\n",
       "\n",
       "       [[0.67768389]]])"
      ]
     },
     "execution_count": 29,
     "metadata": {},
     "output_type": "execute_result"
    }
   ],
   "source": [
    "gmm.covariances_"
   ]
  },
  {
   "cell_type": "code",
   "execution_count": 64,
   "metadata": {},
   "outputs": [
    {
     "data": {
      "text/plain": [
       "-200.57875899027368"
      ]
     },
     "execution_count": 64,
     "metadata": {},
     "output_type": "execute_result"
    }
   ],
   "source": [
    "gmm.score_samples(X).sum()"
   ]
  },
  {
   "cell_type": "code",
   "execution_count": 70,
   "metadata": {},
   "outputs": [
    {
     "data": {
      "text/plain": [
       "-1.3371917266018245"
      ]
     },
     "execution_count": 70,
     "metadata": {},
     "output_type": "execute_result"
    }
   ],
   "source": [
    "gmm.score(X)"
   ]
  },
  {
   "cell_type": "code",
   "execution_count": 47,
   "metadata": {},
   "outputs": [
    {
     "data": {
      "image/png": "[encoded data removed]",
      "text/plain": [
       "<Figure size 432x288 with 1 Axes>"
      ]
     },
     "metadata": {
      "needs_background": "light"
     },
     "output_type": "display_data"
    }
   ],
   "source": [
    "for i in range(2):\n",
    "    n = scipy.stats.norm(gmm.means_[i,0], np.sqrt(gmm.covariances_[i][0][0])).pdf(X)\n",
    "    plt.plot(X, n)\n",
    "plt.scatter(X[:,0], np.zeros(X.shape[0]));"
   ]
  },
  {
   "cell_type": "code",
   "execution_count": 61,
   "metadata": {},
   "outputs": [
    {
     "data": {
      "text/plain": [
       "[<matplotlib.lines.Line2D at 0x152ad8f8f88>]"
      ]
     },
     "execution_count": 61,
     "metadata": {},
     "output_type": "execute_result"
    },
    {
     "data": {
      "image/png": "[encoded data removed]",
      "text/plain": [
       "<Figure size 432x288 with 1 Axes>"
      ]
     },
     "metadata": {
      "needs_background": "light"
     },
     "output_type": "display_data"
    }
   ],
   "source": [
    "plt.plot(X[:,0], np.exp(gmm.score_samples(X)))"
   ]
  },
  {
   "cell_type": "code",
   "execution_count": 80,
   "metadata": {},
   "outputs": [
    {
     "data": {
      "text/plain": [
       "GaussianMixture(covariance_type='full', init_params='kmeans', max_iter=100,\n",
       "                means_init=None, n_components=2, n_init=1, precisions_init=None,\n",
       "                random_state=None, reg_covar=1e-06, tol=0.001, verbose=0,\n",
       "                verbose_interval=10, warm_start=False, weights_init=None)"
      ]
     },
     "execution_count": 80,
     "metadata": {},
     "output_type": "execute_result"
    }
   ],
   "source": [
    "gmm = GaussianMixture(n_components=2, covariance_type=\"full\")\n",
    "gmm.fit(data)"
   ]
  },
  {
   "cell_type": "code",
   "execution_count": 81,
   "metadata": {},
   "outputs": [
    {
     "data": {
      "text/plain": [
       "(150,)"
      ]
     },
     "execution_count": 81,
     "metadata": {},
     "output_type": "execute_result"
    }
   ],
   "source": [
    "gmm.score_samples(data).shape"
   ]
  },
  {
   "cell_type": "code",
   "execution_count": 82,
   "metadata": {},
   "outputs": [
    {
     "data": {
      "text/plain": [
       "array([[[0.12176331, 0.09722605, 0.01602717, 0.01012447],\n",
       "        [0.09722605, 0.14080279, 0.01146185, 0.00911288],\n",
       "        [0.01602717, 0.01146185, 0.02955704, 0.00594818],\n",
       "        [0.01012447, 0.00911288, 0.00594818, 0.0108851 ]],\n",
       "\n",
       "       [[0.43497387, 0.12094155, 0.44886533, 0.16550229],\n",
       "        [0.12094155, 0.10961836, 0.14138002, 0.07923243],\n",
       "        [0.44886533, 0.14138002, 0.67484296, 0.2858736 ],\n",
       "        [0.16550229, 0.07923243, 0.2858736 , 0.17863587]]])"
      ]
     },
     "execution_count": 82,
     "metadata": {},
     "output_type": "execute_result"
    }
   ],
   "source": [
    "gmm.covariances_"
   ]
  },
  {
   "cell_type": "code",
   "execution_count": 83,
   "metadata": {},
   "outputs": [
    {
     "data": {
      "text/plain": [
       "array([[5.00600639, 3.4280142 , 1.46200203, 0.24599932],\n",
       "       [6.26198886, 2.87199642, 4.90597719, 1.67599129]])"
      ]
     },
     "execution_count": 83,
     "metadata": {},
     "output_type": "execute_result"
    }
   ],
   "source": [
    "gmm.means_"
   ]
  },
  {
   "cell_type": "code",
   "execution_count": 89,
   "metadata": {},
   "outputs": [
    {
     "data": {
      "text/plain": [
       "array([[1.00000000e+000, 2.18043998e-011],\n",
       "       [9.99999922e-001, 7.81327712e-008],\n",
       "       [9.99999995e-001, 4.90263308e-009],\n",
       "       [9.99999867e-001, 1.32940646e-007],\n",
       "       [1.00000000e+000, 6.91148058e-012],\n",
       "       [1.00000000e+000, 8.33991270e-013],\n",
       "       [9.99999997e-001, 3.05493660e-009],\n",
       "       [1.00000000e+000, 3.98136674e-010],\n",
       "       [9.99998487e-001, 1.51294445e-006],\n",
       "       [9.99999910e-001, 9.02883211e-008],\n",
       "       [1.00000000e+000, 8.46462965e-013],\n",
       "       [9.99999997e-001, 3.14362156e-009],\n",
       "       [9.99999847e-001, 1.53335096e-007],\n",
       "       [9.99999614e-001, 3.85678386e-007],\n",
       "       [1.00000000e+000, 1.07199360e-016],\n",
       "       [1.00000000e+000, 7.73859193e-019],\n",
       "       [1.00000000e+000, 1.40104958e-014],\n",
       "       [1.00000000e+000, 2.96701679e-011],\n",
       "       [1.00000000e+000, 1.46872137e-012],\n",
       "       [1.00000000e+000, 6.43122700e-013],\n",
       "       [9.99999995e-001, 5.07234600e-009],\n",
       "       [1.00000000e+000, 1.03990183e-011],\n",
       "       [1.00000000e+000, 8.13168454e-011],\n",
       "       [9.99999622e-001, 3.78233479e-007],\n",
       "       [9.99999339e-001, 6.60663370e-007],\n",
       "       [9.99999233e-001, 7.67285015e-007],\n",
       "       [9.99999995e-001, 5.21504048e-009],\n",
       "       [1.00000000e+000, 4.52614809e-011],\n",
       "       [1.00000000e+000, 8.99931645e-011],\n",
       "       [9.99999923e-001, 7.74301985e-008],\n",
       "       [9.99999785e-001, 2.15224469e-007],\n",
       "       [1.00000000e+000, 4.49732813e-010],\n",
       "       [1.00000000e+000, 2.35949163e-015],\n",
       "       [1.00000000e+000, 1.54078374e-017],\n",
       "       [9.99999951e-001, 4.87499189e-008],\n",
       "       [9.99999999e-001, 1.04149990e-009],\n",
       "       [1.00000000e+000, 5.61262295e-012],\n",
       "       [1.00000000e+000, 1.65072250e-011],\n",
       "       [9.99999703e-001, 2.96771370e-007],\n",
       "       [1.00000000e+000, 3.01598782e-010],\n",
       "       [1.00000000e+000, 2.65309784e-011],\n",
       "       [9.99372183e-001, 6.27816783e-004],\n",
       "       [9.99999963e-001, 3.74526984e-008],\n",
       "       [9.99999846e-001, 1.53559474e-007],\n",
       "       [9.99999999e-001, 1.00943998e-009],\n",
       "       [9.99999865e-001, 1.34704000e-007],\n",
       "       [1.00000000e+000, 1.49182754e-012],\n",
       "       [9.99999984e-001, 1.59406133e-008],\n",
       "       [1.00000000e+000, 1.05580859e-012],\n",
       "       [9.99999999e-001, 7.01233349e-010],\n",
       "       [1.03526090e-091, 1.00000000e+000],\n",
       "       [4.14745086e-083, 1.00000000e+000],\n",
       "       [4.28883339e-104, 1.00000000e+000],\n",
       "       [5.56447279e-064, 1.00000000e+000],\n",
       "       [3.75533475e-092, 1.00000000e+000],\n",
       "       [5.32953298e-079, 1.00000000e+000],\n",
       "       [1.83598759e-093, 1.00000000e+000],\n",
       "       [9.44928164e-034, 1.00000000e+000],\n",
       "       [3.58098981e-086, 1.00000000e+000],\n",
       "       [1.46969883e-060, 1.00000000e+000],\n",
       "       [8.94157263e-042, 1.00000000e+000],\n",
       "       [2.27735250e-072, 1.00000000e+000],\n",
       "       [7.53371420e-061, 1.00000000e+000],\n",
       "       [1.72402263e-090, 1.00000000e+000],\n",
       "       [9.09489465e-047, 1.00000000e+000],\n",
       "       [1.39095144e-078, 1.00000000e+000],\n",
       "       [2.08317085e-083, 1.00000000e+000],\n",
       "       [2.41750630e-058, 1.00000000e+000],\n",
       "       [8.49301292e-093, 1.00000000e+000],\n",
       "       [2.78911039e-054, 1.00000000e+000],\n",
       "       [2.89052187e-106, 1.00000000e+000],\n",
       "       [1.60315588e-061, 1.00000000e+000],\n",
       "       [1.53431427e-107, 1.00000000e+000],\n",
       "       [1.48420884e-086, 1.00000000e+000],\n",
       "       [8.39256120e-073, 1.00000000e+000],\n",
       "       [3.01152381e-079, 1.00000000e+000],\n",
       "       [5.13199284e-100, 1.00000000e+000],\n",
       "       [2.36203165e-115, 1.00000000e+000],\n",
       "       [5.88189723e-085, 1.00000000e+000],\n",
       "       [2.92946836e-039, 1.00000000e+000],\n",
       "       [1.69702525e-051, 1.00000000e+000],\n",
       "       [2.61388393e-046, 1.00000000e+000],\n",
       "       [1.84618991e-055, 1.00000000e+000],\n",
       "       [1.34177900e-116, 1.00000000e+000],\n",
       "       [2.24587181e-083, 1.00000000e+000],\n",
       "       [7.66513310e-084, 1.00000000e+000],\n",
       "       [5.82864887e-094, 1.00000000e+000],\n",
       "       [7.61106299e-083, 1.00000000e+000],\n",
       "       [5.52201343e-062, 1.00000000e+000],\n",
       "       [2.11297934e-062, 1.00000000e+000],\n",
       "       [1.26736533e-073, 1.00000000e+000],\n",
       "       [3.15100024e-085, 1.00000000e+000],\n",
       "       [8.84991408e-060, 1.00000000e+000],\n",
       "       [1.92171336e-034, 1.00000000e+000],\n",
       "       [4.55162187e-068, 1.00000000e+000],\n",
       "       [4.94771149e-063, 1.00000000e+000],\n",
       "       [1.44403811e-066, 1.00000000e+000],\n",
       "       [7.28805807e-072, 1.00000000e+000],\n",
       "       [1.57535963e-028, 1.00000000e+000],\n",
       "       [7.79544289e-064, 1.00000000e+000],\n",
       "       [1.75166855e-203, 1.00000000e+000],\n",
       "       [2.08833337e-128, 1.00000000e+000],\n",
       "       [4.20844840e-181, 1.00000000e+000],\n",
       "       [1.82469728e-148, 1.00000000e+000],\n",
       "       [9.75442581e-178, 1.00000000e+000],\n",
       "       [2.49466583e-228, 1.00000000e+000],\n",
       "       [3.89615017e-095, 1.00000000e+000],\n",
       "       [4.56790776e-196, 1.00000000e+000],\n",
       "       [2.14364467e-166, 1.00000000e+000],\n",
       "       [2.90768593e-207, 1.00000000e+000],\n",
       "       [7.99586617e-130, 1.00000000e+000],\n",
       "       [8.74216446e-140, 1.00000000e+000],\n",
       "       [1.08097385e-157, 1.00000000e+000],\n",
       "       [3.03570383e-130, 1.00000000e+000],\n",
       "       [6.12749607e-156, 1.00000000e+000],\n",
       "       [1.88594198e-155, 1.00000000e+000],\n",
       "       [6.18468792e-143, 1.00000000e+000],\n",
       "       [5.65904085e-228, 1.00000000e+000],\n",
       "       [4.15778897e-265, 1.00000000e+000],\n",
       "       [1.59652339e-113, 1.00000000e+000],\n",
       "       [6.66366946e-177, 1.00000000e+000],\n",
       "       [1.51718782e-123, 1.00000000e+000],\n",
       "       [3.31893023e-235, 1.00000000e+000],\n",
       "       [3.25503109e-116, 1.00000000e+000],\n",
       "       [2.15831246e-164, 1.00000000e+000],\n",
       "       [1.77417387e-172, 1.00000000e+000],\n",
       "       [1.84647965e-110, 1.00000000e+000],\n",
       "       [1.16933061e-112, 1.00000000e+000],\n",
       "       [1.56464513e-163, 1.00000000e+000],\n",
       "       [2.85115005e-157, 1.00000000e+000],\n",
       "       [1.29940372e-189, 1.00000000e+000],\n",
       "       [5.60114184e-201, 1.00000000e+000],\n",
       "       [8.64662205e-169, 1.00000000e+000],\n",
       "       [1.24043830e-113, 1.00000000e+000],\n",
       "       [1.43459278e-137, 1.00000000e+000],\n",
       "       [5.00862254e-207, 1.00000000e+000],\n",
       "       [1.34366882e-174, 1.00000000e+000],\n",
       "       [2.07169028e-141, 1.00000000e+000],\n",
       "       [3.96553499e-108, 1.00000000e+000],\n",
       "       [7.95322205e-152, 1.00000000e+000],\n",
       "       [4.87277821e-178, 1.00000000e+000],\n",
       "       [4.44935394e-148, 1.00000000e+000],\n",
       "       [2.08833337e-128, 1.00000000e+000],\n",
       "       [1.55458957e-187, 1.00000000e+000],\n",
       "       [1.90290254e-187, 1.00000000e+000],\n",
       "       [2.82666365e-153, 1.00000000e+000],\n",
       "       [4.12412338e-127, 1.00000000e+000],\n",
       "       [1.09936098e-136, 1.00000000e+000],\n",
       "       [2.14007167e-158, 1.00000000e+000],\n",
       "       [2.05478314e-121, 1.00000000e+000]])"
      ]
     },
     "execution_count": 89,
     "metadata": {},
     "output_type": "execute_result"
    }
   ],
   "source": [
    "gmm.predict_proba(data)"
   ]
  }
 ],
 "metadata": {
  "kernelspec": {
   "display_name": "Python 3",
   "language": "python",
   "name": "python3"
  },
  "language_info": {
   "codemirror_mode": {
    "name": "ipython",
    "version": 3
   },
   "file_extension": ".py",
   "mimetype": "text/x-python",
   "name": "python",
   "nbconvert_exporter": "python",
   "pygments_lexer": "ipython3",
   "version": "3.7.4"
  }
 },
 "nbformat": 4,
 "nbformat_minor": 2
}
