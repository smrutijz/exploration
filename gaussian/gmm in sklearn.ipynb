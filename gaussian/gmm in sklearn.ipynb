{
 "cells": [
  {
   "cell_type": "code",
   "execution_count": 1,
   "metadata": {},
   "outputs": [],
   "source": [
    "import matplotlib as mpl\n",
    "import matplotlib.pyplot as plt\n",
    "import scipy.stats\n",
    "import numpy as np\n",
    "from scipy.stats import multivariate_normal\n",
    "from sklearn import datasets\n",
    "from sklearn.mixture import GaussianMixture"
   ]
  },
  {
   "cell_type": "code",
   "execution_count": 2,
   "metadata": {},
   "outputs": [],
   "source": [
    "iris = datasets.load_iris()\n",
    "cols = iris.feature_names\n",
    "data = iris.data"
   ]
  },
  {
   "cell_type": "code",
   "execution_count": 3,
   "metadata": {},
   "outputs": [
    {
     "data": {
      "image/png": "[encoded data removed]",
      "text/plain": [
       "<Figure size 432x288 with 1 Axes>"
      ]
     },
     "metadata": {
      "needs_background": "light"
     },
     "output_type": "display_data"
    }
   ],
   "source": [
    "plt.hist(data[:,2])\n",
    "plt.show()"
   ]
  },
  {
   "cell_type": "code",
   "execution_count": 4,
   "metadata": {},
   "outputs": [
    {
     "data": {
      "text/plain": [
       "GaussianMixture(covariance_type='full', init_params='kmeans', max_iter=100,\n",
       "                means_init=None, n_components=2, n_init=1, precisions_init=None,\n",
       "                random_state=None, reg_covar=1e-06, tol=0.001, verbose=0,\n",
       "                verbose_interval=10, warm_start=False, weights_init=None)"
      ]
     },
     "execution_count": 4,
     "metadata": {},
     "output_type": "execute_result"
    }
   ],
   "source": [
    "X = np.sort(data[:, 2]).reshape(-1,1)\n",
    "gmm = GaussianMixture(n_components=2)\n",
    "gmm.fit(X)"
   ]
  },
  {
   "cell_type": "code",
   "execution_count": 5,
   "metadata": {},
   "outputs": [
    {
     "data": {
      "text/plain": [
       "array([0.66688872, 0.33311128])"
      ]
     },
     "execution_count": 5,
     "metadata": {},
     "output_type": "execute_result"
    }
   ],
   "source": [
    "gmm.weights_"
   ]
  },
  {
   "cell_type": "code",
   "execution_count": 6,
   "metadata": {},
   "outputs": [
    {
     "data": {
      "text/plain": [
       "array([[4.90497803],\n",
       "       [1.46175017]])"
      ]
     },
     "execution_count": 6,
     "metadata": {},
     "output_type": "execute_result"
    }
   ],
   "source": [
    "gmm.means_"
   ]
  },
  {
   "cell_type": "code",
   "execution_count": 7,
   "metadata": {},
   "outputs": [
    {
     "data": {
      "text/plain": [
       "array([[[0.67768389]],\n",
       "\n",
       "       [[0.02946712]]])"
      ]
     },
     "execution_count": 7,
     "metadata": {},
     "output_type": "execute_result"
    }
   ],
   "source": [
    "gmm.covariances_"
   ]
  },
  {
   "cell_type": "code",
   "execution_count": 8,
   "metadata": {},
   "outputs": [
    {
     "data": {
      "text/plain": [
       "-200.57875899027368"
      ]
     },
     "execution_count": 8,
     "metadata": {},
     "output_type": "execute_result"
    }
   ],
   "source": [
    "gmm.score_samples(X).sum()"
   ]
  },
  {
   "cell_type": "code",
   "execution_count": 9,
   "metadata": {},
   "outputs": [
    {
     "data": {
      "text/plain": [
       "-1.3371917266018245"
      ]
     },
     "execution_count": 9,
     "metadata": {},
     "output_type": "execute_result"
    }
   ],
   "source": [
    "gmm.score(X)"
   ]
  },
  {
   "cell_type": "code",
   "execution_count": 10,
   "metadata": {},
   "outputs": [],
   "source": [
    "lx = multivariate_normal(mean=gmm.means_[0], cov=gmm.covariances_[0]).pdf(X) * gmm.weights_[0] \\\n",
    "+ \\\n",
    "multivariate_normal(mean=gmm.means_[1], cov=gmm.covariances_[1]).pdf(X) * gmm.weights_[1]"
   ]
  },
  {
   "cell_type": "code",
   "execution_count": 11,
   "metadata": {},
   "outputs": [
    {
     "data": {
      "text/plain": [
       "[<matplotlib.lines.Line2D at 0x244c1b6e8c8>]"
      ]
     },
     "execution_count": 11,
     "metadata": {},
     "output_type": "execute_result"
    },
    {
     "data": {
      "image/png": "[encoded data removed]",
      "text/plain": [
       "<Figure size 432x288 with 1 Axes>"
      ]
     },
     "metadata": {
      "needs_background": "light"
     },
     "output_type": "display_data"
    }
   ],
   "source": [
    "\n",
    "X_Prob = gmm.predict_proba(X)\n",
    "for i in range(X_Prob.shape[1]):\n",
    "    plt.scatter(X[:,0], X_Prob[:,i])\n",
    "    var = multivariate_normal(mean=gmm.means_[i], cov=gmm.covariances_[i])\n",
    "    plt.plot(X[:,0], var.pdf(X))\n",
    "plt.plot(X[:,0], np.exp(gmm.score_samples(X)))\n",
    "plt.plot(X[:,0], lx)"
   ]
  },
  {
   "cell_type": "code",
   "execution_count": 12,
   "metadata": {},
   "outputs": [
    {
     "data": {
      "text/plain": [
       "-0.0"
      ]
     },
     "execution_count": 12,
     "metadata": {},
     "output_type": "execute_result"
    }
   ],
   "source": [
    "round((np.exp(gmm.score_samples(X))-lx).sum(),10)"
   ]
  },
  {
   "cell_type": "code",
   "execution_count": 16,
   "metadata": {},
   "outputs": [],
   "source": [
    "a = multivariate_normal(mean=gmm.means_[0], cov=gmm.covariances_[0]).pdf(X) * gmm.weights_[0]\n",
    "b = multivariate_normal(mean=gmm.means_[1], cov=gmm.covariances_[1]).pdf(X) * gmm.weights_[1]\n",
    "post_proba = np.array([(a)/(a+b),(b)/(b+a)]).T"
   ]
  },
  {
   "cell_type": "code",
   "execution_count": 19,
   "metadata": {},
   "outputs": [
    {
     "data": {
      "text/plain": [
       "-0.0"
      ]
     },
     "execution_count": 19,
     "metadata": {},
     "output_type": "execute_result"
    }
   ],
   "source": [
    "round((gmm.predict_proba(X)-post_proba).sum(axis=1).sum(axis=0), 10)"
   ]
  },
  {
   "cell_type": "code",
   "execution_count": 16,
   "metadata": {},
   "outputs": [
    {
     "data": {
      "text/plain": [
       "(150,)"
      ]
     },
     "execution_count": 16,
     "metadata": {},
     "output_type": "execute_result"
    }
   ],
   "source": [
    "gmm.score_samples(X).shape"
   ]
  },
  {
   "cell_type": "code",
   "execution_count": 17,
   "metadata": {},
   "outputs": [
    {
     "data": {
      "text/plain": [
       "0.25"
      ]
     },
     "execution_count": 17,
     "metadata": {},
     "output_type": "execute_result"
    }
   ],
   "source": [
    "from scipy.stats import multivariate_normal\n",
    "var = multivariate_normal(mean=[0,0], cov=[[1,0],[0,1]])\n",
    "var.cdf([0,0])"
   ]
  },
  {
   "cell_type": "code",
   "execution_count": 18,
   "metadata": {},
   "outputs": [
    {
     "data": {
      "text/plain": [
       "array([0.0623798 , 0.01703365])"
      ]
     },
     "execution_count": 18,
     "metadata": {},
     "output_type": "execute_result"
    }
   ],
   "source": [
    "scipy.stats.norm(gmm.means_[i,0], np.sqrt(gmm.covariances_[i][0][0])).pdf([1,2])"
   ]
  },
  {
   "cell_type": "code",
   "execution_count": 19,
   "metadata": {},
   "outputs": [
    {
     "data": {
      "text/plain": [
       "0.5"
      ]
     },
     "execution_count": 19,
     "metadata": {},
     "output_type": "execute_result"
    }
   ],
   "source": [
    "scipy.stats.norm(1.5, 0.005).cdf(1.5)"
   ]
  },
  {
   "cell_type": "code",
   "execution_count": 20,
   "metadata": {},
   "outputs": [
    {
     "data": {
      "image/png": "[encoded data removed]",
      "text/plain": [
       "<Figure size 432x288 with 1 Axes>"
      ]
     },
     "metadata": {
      "needs_background": "light"
     },
     "output_type": "display_data"
    }
   ],
   "source": [
    "for i in range(2):\n",
    "    n = scipy.stats.norm(gmm.means_[i,0], np.sqrt(gmm.covariances_[i][0][0])).pdf(X)\n",
    "    plt.plot(X, n)\n",
    "#plt.scatter(X[:,0], np.zeros(X.shape[0]));"
   ]
  },
  {
   "cell_type": "code",
   "execution_count": 21,
   "metadata": {},
   "outputs": [
    {
     "data": {
      "text/plain": [
       "[<matplotlib.lines.Line2D at 0x1e9923e7e48>]"
      ]
     },
     "execution_count": 21,
     "metadata": {},
     "output_type": "execute_result"
    },
    {
     "data": {
      "image/png": "[encoded data removed]",
      "text/plain": [
       "<Figure size 432x288 with 1 Axes>"
      ]
     },
     "metadata": {
      "needs_background": "light"
     },
     "output_type": "display_data"
    }
   ],
   "source": [
    "plt.plot(X[:,0], gmm.score_samples(X))"
   ]
  },
  {
   "cell_type": "code",
   "execution_count": 22,
   "metadata": {},
   "outputs": [
    {
     "data": {
      "text/plain": [
       "[<matplotlib.lines.Line2D at 0x1e98da16348>]"
      ]
     },
     "execution_count": 22,
     "metadata": {},
     "output_type": "execute_result"
    },
    {
     "data": {
      "image/png": "[encoded data removed]",
      "text/plain": [
       "<Figure size 432x288 with 1 Axes>"
      ]
     },
     "metadata": {
      "needs_background": "light"
     },
     "output_type": "display_data"
    }
   ],
   "source": [
    "plt.plot(X[:,0], np.exp(gmm.score_samples(X)))\n",
    "plt.plot(np.linspace(X[:,0].max(),10,100).reshape(-1,1), \n",
    "np.exp(gmm.score_samples(np.linspace(X[:,0].max(),10,100).reshape(-1,1))))"
   ]
  },
  {
   "cell_type": "code",
   "execution_count": 23,
   "metadata": {},
   "outputs": [
    {
     "data": {
      "text/plain": [
       "array([[2.02118629e-004, 9.99797881e-001],\n",
       "       [8.82782865e-005, 9.99911722e-001],\n",
       "       [5.33385715e-005, 9.99946661e-001],\n",
       "       [5.33385715e-005, 9.99946661e-001],\n",
       "       [4.45853006e-005, 9.99955415e-001],\n",
       "       [4.45853006e-005, 9.99955415e-001],\n",
       "       [4.45853006e-005, 9.99955415e-001],\n",
       "       [4.45853006e-005, 9.99955415e-001],\n",
       "       [4.45853006e-005, 9.99955415e-001],\n",
       "       [4.45853006e-005, 9.99955415e-001],\n",
       "       [4.45853006e-005, 9.99955415e-001],\n",
       "       [5.15595827e-005, 9.99948440e-001],\n",
       "       [5.15595827e-005, 9.99948440e-001],\n",
       "       [5.15595827e-005, 9.99948440e-001],\n",
       "       [5.15595827e-005, 9.99948440e-001],\n",
       "       [5.15595827e-005, 9.99948440e-001],\n",
       "       [5.15595827e-005, 9.99948440e-001],\n",
       "       [5.15595827e-005, 9.99948440e-001],\n",
       "       [5.15595827e-005, 9.99948440e-001],\n",
       "       [5.15595827e-005, 9.99948440e-001],\n",
       "       [5.15595827e-005, 9.99948440e-001],\n",
       "       [5.15595827e-005, 9.99948440e-001],\n",
       "       [5.15595827e-005, 9.99948440e-001],\n",
       "       [5.15595827e-005, 9.99948440e-001],\n",
       "       [8.24880223e-005, 9.99917512e-001],\n",
       "       [8.24880223e-005, 9.99917512e-001],\n",
       "       [8.24880223e-005, 9.99917512e-001],\n",
       "       [8.24880223e-005, 9.99917512e-001],\n",
       "       [8.24880223e-005, 9.99917512e-001],\n",
       "       [8.24880223e-005, 9.99917512e-001],\n",
       "       [8.24880223e-005, 9.99917512e-001],\n",
       "       [8.24880223e-005, 9.99917512e-001],\n",
       "       [8.24880223e-005, 9.99917512e-001],\n",
       "       [8.24880223e-005, 9.99917512e-001],\n",
       "       [8.24880223e-005, 9.99917512e-001],\n",
       "       [8.24880223e-005, 9.99917512e-001],\n",
       "       [8.24880223e-005, 9.99917512e-001],\n",
       "       [1.82564596e-004, 9.99817435e-001],\n",
       "       [1.82564596e-004, 9.99817435e-001],\n",
       "       [1.82564596e-004, 9.99817435e-001],\n",
       "       [1.82564596e-004, 9.99817435e-001],\n",
       "       [1.82564596e-004, 9.99817435e-001],\n",
       "       [1.82564596e-004, 9.99817435e-001],\n",
       "       [1.82564596e-004, 9.99817435e-001],\n",
       "       [5.58851504e-004, 9.99441148e-001],\n",
       "       [5.58851504e-004, 9.99441148e-001],\n",
       "       [5.58851504e-004, 9.99441148e-001],\n",
       "       [5.58851504e-004, 9.99441148e-001],\n",
       "       [1.36949286e-002, 9.86305071e-001],\n",
       "       [1.36949286e-002, 9.86305071e-001],\n",
       "       [1.00000000e+000, 1.27422031e-016],\n",
       "       [1.00000000e+000, 2.01036627e-024],\n",
       "       [1.00000000e+000, 2.01036627e-024],\n",
       "       [1.00000000e+000, 2.49511902e-030],\n",
       "       [1.00000000e+000, 2.49511902e-030],\n",
       "       [1.00000000e+000, 1.70819716e-033],\n",
       "       [1.00000000e+000, 8.45299319e-037],\n",
       "       [1.00000000e+000, 3.02349207e-040],\n",
       "       [1.00000000e+000, 7.81687097e-044],\n",
       "       [1.00000000e+000, 7.81687097e-044],\n",
       "       [1.00000000e+000, 7.81687097e-044],\n",
       "       [1.00000000e+000, 1.46077338e-047],\n",
       "       [1.00000000e+000, 1.46077338e-047],\n",
       "       [1.00000000e+000, 1.46077338e-047],\n",
       "       [1.00000000e+000, 1.46077338e-047],\n",
       "       [1.00000000e+000, 1.46077338e-047],\n",
       "       [1.00000000e+000, 1.97314291e-051],\n",
       "       [1.00000000e+000, 1.97314291e-051],\n",
       "       [1.00000000e+000, 1.97314291e-051],\n",
       "       [1.00000000e+000, 1.92646015e-055],\n",
       "       [1.00000000e+000, 1.92646015e-055],\n",
       "       [1.00000000e+000, 1.92646015e-055],\n",
       "       [1.00000000e+000, 1.92646015e-055],\n",
       "       [1.00000000e+000, 1.35952536e-059],\n",
       "       [1.00000000e+000, 1.35952536e-059],\n",
       "       [1.00000000e+000, 6.93490295e-064],\n",
       "       [1.00000000e+000, 6.93490295e-064],\n",
       "       [1.00000000e+000, 6.93490295e-064],\n",
       "       [1.00000000e+000, 6.93490295e-064],\n",
       "       [1.00000000e+000, 2.55693246e-068],\n",
       "       [1.00000000e+000, 2.55693246e-068],\n",
       "       [1.00000000e+000, 2.55693246e-068],\n",
       "       [1.00000000e+000, 2.55693246e-068],\n",
       "       [1.00000000e+000, 2.55693246e-068],\n",
       "       [1.00000000e+000, 2.55693246e-068],\n",
       "       [1.00000000e+000, 2.55693246e-068],\n",
       "       [1.00000000e+000, 2.55693246e-068],\n",
       "       [1.00000000e+000, 6.81434188e-073],\n",
       "       [1.00000000e+000, 6.81434188e-073],\n",
       "       [1.00000000e+000, 6.81434188e-073],\n",
       "       [1.00000000e+000, 1.31266642e-077],\n",
       "       [1.00000000e+000, 1.31266642e-077],\n",
       "       [1.00000000e+000, 1.31266642e-077],\n",
       "       [1.00000000e+000, 1.31266642e-077],\n",
       "       [1.00000000e+000, 1.31266642e-077],\n",
       "       [1.00000000e+000, 1.82772403e-082],\n",
       "       [1.00000000e+000, 1.82772403e-082],\n",
       "       [1.00000000e+000, 1.82772403e-082],\n",
       "       [1.00000000e+000, 1.82772403e-082],\n",
       "       [1.00000000e+000, 1.83946981e-087],\n",
       "       [1.00000000e+000, 1.83946981e-087],\n",
       "       [1.00000000e+000, 1.83946981e-087],\n",
       "       [1.00000000e+000, 1.83946981e-087],\n",
       "       [1.00000000e+000, 1.83946981e-087],\n",
       "       [1.00000000e+000, 1.33813676e-092],\n",
       "       [1.00000000e+000, 1.33813676e-092],\n",
       "       [1.00000000e+000, 1.33813676e-092],\n",
       "       [1.00000000e+000, 1.33813676e-092],\n",
       "       [1.00000000e+000, 7.03613443e-098],\n",
       "       [1.00000000e+000, 7.03613443e-098],\n",
       "       [1.00000000e+000, 7.03613443e-098],\n",
       "       [1.00000000e+000, 7.03613443e-098],\n",
       "       [1.00000000e+000, 7.03613443e-098],\n",
       "       [1.00000000e+000, 7.03613443e-098],\n",
       "       [1.00000000e+000, 7.03613443e-098],\n",
       "       [1.00000000e+000, 7.03613443e-098],\n",
       "       [1.00000000e+000, 2.67419794e-103],\n",
       "       [1.00000000e+000, 2.67419794e-103],\n",
       "       [1.00000000e+000, 7.34647095e-109],\n",
       "       [1.00000000e+000, 7.34647095e-109],\n",
       "       [1.00000000e+000, 1.45877991e-114],\n",
       "       [1.00000000e+000, 1.45877991e-114],\n",
       "       [1.00000000e+000, 2.09375845e-120],\n",
       "       [1.00000000e+000, 2.09375845e-120],\n",
       "       [1.00000000e+000, 2.09375845e-120],\n",
       "       [1.00000000e+000, 2.17214679e-126],\n",
       "       [1.00000000e+000, 2.17214679e-126],\n",
       "       [1.00000000e+000, 2.17214679e-126],\n",
       "       [1.00000000e+000, 2.17214679e-126],\n",
       "       [1.00000000e+000, 2.17214679e-126],\n",
       "       [1.00000000e+000, 2.17214679e-126],\n",
       "       [1.00000000e+000, 1.62883675e-132],\n",
       "       [1.00000000e+000, 1.62883675e-132],\n",
       "       [1.00000000e+000, 1.62883675e-132],\n",
       "       [1.00000000e+000, 8.82859799e-139],\n",
       "       [1.00000000e+000, 8.82859799e-139],\n",
       "       [1.00000000e+000, 8.82859799e-139],\n",
       "       [1.00000000e+000, 3.45884991e-145],\n",
       "       [1.00000000e+000, 3.45884991e-145],\n",
       "       [1.00000000e+000, 9.79484314e-152],\n",
       "       [1.00000000e+000, 9.79484314e-152],\n",
       "       [1.00000000e+000, 2.00488306e-158],\n",
       "       [1.00000000e+000, 2.00488306e-158],\n",
       "       [1.00000000e+000, 2.00488306e-158],\n",
       "       [1.00000000e+000, 3.17211958e-172],\n",
       "       [1.00000000e+000, 2.45198886e-179],\n",
       "       [1.00000000e+000, 5.53265711e-194],\n",
       "       [1.00000000e+000, 1.61502808e-201],\n",
       "       [1.00000000e+000, 1.61502808e-201],\n",
       "       [1.00000000e+000, 5.19696869e-217]])"
      ]
     },
     "execution_count": 23,
     "metadata": {},
     "output_type": "execute_result"
    }
   ],
   "source": [
    "gmm.predict_proba(X)"
   ]
  },
  {
   "cell_type": "code",
   "execution_count": 24,
   "metadata": {},
   "outputs": [
    {
     "name": "stdout",
     "output_type": "stream",
     "text": [
      "gmm: silhouttte:  0.7850683677228648\n"
     ]
    }
   ],
   "source": [
    "from sklearn.metrics import silhouette_score\n",
    "print (\"gmm: silhouttte: \", silhouette_score(X, gmm.predict(X)))"
   ]
  },
  {
   "cell_type": "markdown",
   "metadata": {},
   "source": [
    "# Multinomial GMM"
   ]
  },
  {
   "cell_type": "code",
   "execution_count": 25,
   "metadata": {},
   "outputs": [
    {
     "data": {
      "text/plain": [
       "GaussianMixture(covariance_type='full', init_params='kmeans', max_iter=100,\n",
       "                means_init=None, n_components=2, n_init=1, precisions_init=None,\n",
       "                random_state=None, reg_covar=1e-06, tol=0.001, verbose=0,\n",
       "                verbose_interval=10, warm_start=False, weights_init=None)"
      ]
     },
     "execution_count": 25,
     "metadata": {},
     "output_type": "execute_result"
    }
   ],
   "source": [
    "gmm = GaussianMixture(n_components=2, covariance_type=\"full\")\n",
    "gmm.fit(data)"
   ]
  },
  {
   "cell_type": "code",
   "execution_count": 26,
   "metadata": {},
   "outputs": [
    {
     "data": {
      "text/plain": [
       "(150,)"
      ]
     },
     "execution_count": 26,
     "metadata": {},
     "output_type": "execute_result"
    }
   ],
   "source": [
    "gmm.score_samples(data).shape"
   ]
  },
  {
   "cell_type": "code",
   "execution_count": 27,
   "metadata": {},
   "outputs": [
    {
     "data": {
      "text/plain": [
       "array([[[0.43497387, 0.12094155, 0.44886533, 0.16550229],\n",
       "        [0.12094155, 0.10961836, 0.14138002, 0.07923243],\n",
       "        [0.44886533, 0.14138002, 0.67484296, 0.2858736 ],\n",
       "        [0.16550229, 0.07923243, 0.2858736 , 0.17863587]],\n",
       "\n",
       "       [[0.12176331, 0.09722605, 0.01602717, 0.01012447],\n",
       "        [0.09722605, 0.14080279, 0.01146185, 0.00911288],\n",
       "        [0.01602717, 0.01146185, 0.02955704, 0.00594818],\n",
       "        [0.01012447, 0.00911288, 0.00594818, 0.0108851 ]]])"
      ]
     },
     "execution_count": 27,
     "metadata": {},
     "output_type": "execute_result"
    }
   ],
   "source": [
    "gmm.covariances_"
   ]
  },
  {
   "cell_type": "code",
   "execution_count": 28,
   "metadata": {},
   "outputs": [
    {
     "data": {
      "text/plain": [
       "array([[6.26198886, 2.87199642, 4.90597719, 1.67599129],\n",
       "       [5.00600639, 3.4280142 , 1.46200203, 0.24599932]])"
      ]
     },
     "execution_count": 28,
     "metadata": {},
     "output_type": "execute_result"
    }
   ],
   "source": [
    "gmm.means_"
   ]
  },
  {
   "cell_type": "code",
   "execution_count": 29,
   "metadata": {},
   "outputs": [
    {
     "data": {
      "image/png": "[encoded data removed]",
      "text/plain": [
       "<Figure size 432x288 with 1 Axes>"
      ]
     },
     "metadata": {
      "needs_background": "light"
     },
     "output_type": "display_data"
    }
   ],
   "source": [
    "from scipy.stats import multivariate_normal\n",
    "for i in range(2):\n",
    "    var = multivariate_normal(mean=gmm.means_[i], cov=gmm.covariances_[i])\n",
    "    plt.plot(X[:,0], var.pdf(X))"
   ]
  },
  {
   "cell_type": "markdown",
   "metadata": {},
   "source": [
    "# fabricated example\n",
    "to show score_sample is pdf"
   ]
  },
  {
   "cell_type": "code",
   "execution_count": 30,
   "metadata": {},
   "outputs": [
    {
     "name": "stdout",
     "output_type": "stream",
     "text": [
      "0.9992280718135363\n"
     ]
    }
   ],
   "source": [
    "data = 10 * np.random.rand(100)\n",
    "model = GaussianMixture(n_components=1).fit(data[:, None])\n",
    "xfit = np.linspace(-5, 15, 5000)\n",
    "logprob = model.score_samples(xfit[:, None])\n",
    "dx = xfit[1] - xfit[0]\n",
    "print(dx * np.sum(np.exp(logprob)))\n",
    "# 0.999773872653"
   ]
  },
  {
   "cell_type": "markdown",
   "metadata": {},
   "source": [
    "# Density Estimation"
   ]
  },
  {
   "cell_type": "code",
   "execution_count": 31,
   "metadata": {},
   "outputs": [
    {
     "data": {
      "image/png": "[encoded data removed]",
      "text/plain": [
       "<Figure size 432x288 with 2 Axes>"
      ]
     },
     "metadata": {
      "needs_background": "light"
     },
     "output_type": "display_data"
    }
   ],
   "source": [
    "import matplotlib.pyplot as plt\n",
    "from matplotlib.colors import LogNorm\n",
    "from sklearn import mixture\n",
    "\n",
    "n_samples = 300\n",
    "\n",
    "# generate random sample, two components\n",
    "np.random.seed(0)\n",
    "\n",
    "# generate spherical data centered on (20, 20)\n",
    "shifted_gaussian = np.random.randn(n_samples, 2) + np.array([20, 20])\n",
    "\n",
    "# generate zero centered stretched Gaussian data\n",
    "C = np.array([[0., -0.7], [3.5, .7]])\n",
    "stretched_gaussian = np.dot(np.random.randn(n_samples, 2), C)\n",
    "\n",
    "# concatenate the two datasets into the final training set\n",
    "X_train = np.vstack([shifted_gaussian, stretched_gaussian])\n",
    "\n",
    "# fit a Gaussian Mixture Model with two components\n",
    "clf = mixture.GaussianMixture(n_components=2, covariance_type='full')\n",
    "clf.fit(X_train)\n",
    "\n",
    "# display predicted scores by the model as a contour plot\n",
    "x = np.linspace(-20., 30.)\n",
    "y = np.linspace(-20., 40.)\n",
    "X, Y = np.meshgrid(x, y)\n",
    "XX = np.array([X.ravel(), Y.ravel()]).T\n",
    "Z = -clf.score_samples(XX)\n",
    "Z = Z.reshape(X.shape)\n",
    "\n",
    "CS = plt.contour(X, Y, Z, norm=LogNorm(vmin=1.0, vmax=1000.0),\n",
    "                 levels=np.logspace(0, 3, 10))\n",
    "CB = plt.colorbar(CS, shrink=0.8, extend='both')\n",
    "plt.scatter(X_train[:, 0], X_train[:, 1], .8)\n",
    "\n",
    "plt.title('Negative log-likelihood predicted by a GMM')\n",
    "plt.axis('tight')\n",
    "plt.show()"
   ]
  }
 ],
 "metadata": {
  "kernelspec": {
   "display_name": "Python 3",
   "language": "python",
   "name": "python3"
  },
  "language_info": {
   "codemirror_mode": {
    "name": "ipython",
    "version": 3
   },
   "file_extension": ".py",
   "mimetype": "text/x-python",
   "name": "python",
   "nbconvert_exporter": "python",
   "pygments_lexer": "ipython3",
   "version": "3.7.4"
  }
 },
 "nbformat": 4,
 "nbformat_minor": 2
}
